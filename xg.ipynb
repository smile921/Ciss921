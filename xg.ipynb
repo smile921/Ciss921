{
 "metadata": {
  "name": "",
  "signature": "sha256:da6efd8a502facf8d5993af2b9dc40eaa380deadecbc67aa448416fc065cf6a6"
 },
 "nbformat": 3,
 "nbformat_minor": 0,
 "worksheets": [
  {
   "cells": [
    {
     "cell_type": "markdown",
     "metadata": {},
     "source": [
      "# \u83b7\u53d6\u4e00\u53ea\u80a1\u7968\u7684\u5168\u90e8\u5386\u53f2\u6570\u636e\n",
      "\n",
      ". \u4f8b\u5982\u83b7\u53d6600446\u7684\u5168\u90e8\u5386\u53f2\u6570\u636e<br>\n",
      "\n",
      "\n",
      "# \u5386\u53f2\u884c\u60c5\u00b6\n",
      "\n",
      "\u83b7\u53d6\u4e2a\u80a1\u5386\u53f2\u4ea4\u6613\u6570\u636e\uff08\u5305\u62ec\u5747\u7ebf\u6570\u636e\uff09\uff0c\u53ef\u4ee5\u901a\u8fc7\u53c2\u6570\u8bbe\u7f6e\u83b7\u53d6\u65e5k\u7ebf\u3001\u5468k\u7ebf\u3001\u6708k\u7ebf\uff0c\u4ee5\u53ca5\u5206\u949f\u300115\u5206\u949f\u300130\u5206\u949f\u548c60\u5206\u949fk\u7ebf\u6570\u636e\u3002\u672c\u63a5\u53e3\u53ea\u80fd\u83b7\u53d6\u8fd13\u5e74\u7684\u65e5\u7ebf\u6570\u636e\uff0c\u9002\u5408\u642d\u914d\u5747\u7ebf\u6570\u636e\u8fdb\u884c\u9009\u80a1\u548c\u5206\u6790\uff0c\u5982\u679c\u9700\u8981\u5168\u90e8\u5386\u53f2\u6570\u636e\uff0c\u8bf7\u8c03\u7528\u4e0b\u4e00\u4e2a\u63a5\u53e3get_h_data()\u3002<br>\n",
      "\n",
      "## \u53c2\u6570\u8bf4\u660e\uff1a\n",
      "\n",
      "* code\uff1a\u80a1\u7968\u4ee3\u7801\uff0c\u53736\u4f4d\u6570\u5b57\u4ee3\u7801\uff0c\u6216\u8005\u6307\u6570\u4ee3\u7801\uff08sh=\u4e0a\u8bc1\u6307\u6570 sz=\u6df1\u5733\u6210\u6307 hs300=\u6caa\u6df1300\u6307\u6570 sz50=\u4e0a\u8bc150 zxb=\u4e2d\u5c0f\u677f cyb=\u521b\u4e1a\u677f\uff09<br>\n",
      "* start\uff1a\u5f00\u59cb\u65e5\u671f\uff0c\u683c\u5f0fYYYY-MM-DD<br>\n",
      "* end\uff1a\u7ed3\u675f\u65e5\u671f\uff0c\u683c\u5f0fYYYY-MM-DD<br>\n",
      "* ktype\uff1a\u6570\u636e\u7c7b\u578b\uff0cD=\u65e5k\u7ebf W=\u5468 M=\u6708 5=5\u5206\u949f 15=15\u5206\u949f 30=30\u5206\u949f 60=60\u5206\u949f\uff0c\u9ed8\u8ba4\u4e3aD<br>\n",
      "* retry_count\uff1a\u5f53\u7f51\u7edc\u5f02\u5e38\u540e\u91cd\u8bd5\u6b21\u6570\uff0c\u9ed8\u8ba4\u4e3a3<br>\n",
      "* pause:\u91cd\u8bd5\u65f6\u505c\u987f\u79d2\u6570\uff0c\u9ed8\u8ba4\u4e3a0<br>\n",
      "\n",
      "## \u8fd4\u56de\u503c\u8bf4\u660e\uff1a\n",
      "\n",
      "* date\uff1a\u65e5\u671f<br>\n",
      "* open\uff1a\u5f00\u76d8\u4ef7<br>\n",
      "* high\uff1a\u6700\u9ad8\u4ef7<br>\n",
      "* close\uff1a\u6536\u76d8\u4ef7<br>\n",
      "* low\uff1a\u6700\u4f4e\u4ef7<br>\n",
      "* volume\uff1a\u6210\u4ea4\u91cf<br>\n",
      "* price_change\uff1a\u4ef7\u683c\u53d8\u52a8<br>\n",
      "* p_change\uff1a\u6da8\u8dcc\u5e45<br>\n",
      "* ma5\uff1a5\u65e5\u5747\u4ef7<br>\n",
      "* ma10\uff1a10\u65e5\u5747\u4ef7<br>\n",
      "* ma20:20\u65e5\u5747\u4ef7<br>\n",
      "* v_ma5:5\u65e5\u5747\u91cf<br>\n",
      "* v_ma10:10\u65e5\u5747\u91cf<br>\n",
      "* v_ma20:20\u65e5\u5747\u91cf<br>\n",
      "* turnover:\u6362\u624b\u7387[\u6ce8\uff1a\u6307\u6570\u65e0\u6b64\u9879]<br>\n",
      "\n",
      "\n",
      "## \n",
      " \n",
      "* ts.get_hist_data('600848', ktype='W') #\u83b7\u53d6\u5468k\u7ebf\u6570\u636e<br>\n",
      "\n",
      "* ts.get_hist_data('600848', ktype='M') #\u83b7\u53d6\u6708k\u7ebf\u6570\u636e<br>\n",
      "\n",
      "* ts.get_hist_data('600848', ktype='5') #\u83b7\u53d65\u5206\u949fk\u7ebf\u6570\u636e<br>\n",
      "\n",
      "* ts.get_hist_data('600848', ktype='15') #\u83b7\u53d615\u5206\u949fk\u7ebf\u6570\u636e\n",
      "<br>\n",
      "* ts.get_hist_data('600848', ktype='30') #\u83b7\u53d630\u5206\u949fk\u7ebf\u6570\u636e\n",
      "<br>\n",
      "* ts.get_hist_data('600848', ktype='60') #\u83b7\u53d660\u5206\u949fk\u7ebf\u6570\u636e\n",
      "<br>\n",
      "* ts.get_hist_data('sh'\uff09#\u83b7\u53d6\u4e0a\u8bc1\u6307\u6570k\u7ebf\u6570\u636e\uff0c\u5176\u5b83\u53c2\u6570\u4e0e\u4e2a\u80a1\u4e00\u81f4\uff0c\u4e0b\u540c\n",
      "<br>\n",
      "* ts.get_hist_data('sz'\uff09#\u83b7\u53d6\u6df1\u5733\u6210\u6307k\u7ebf\u6570\u636e\n",
      "<br>\n",
      "* ts.get_hist_data('hs300'\uff09#\u83b7\u53d6\u6caa\u6df1300\u6307\u6570k\u7ebf\u6570\u636e\n",
      "<br>\n",
      "* ts.get_hist_data('sz50'\uff09#\u83b7\u53d6\u4e0a\u8bc150\u6307\u6570k\u7ebf\u6570\u636e\n",
      "<br>\n",
      "* ts.get_hist_data('zxb'\uff09#\u83b7\u53d6\u4e2d\u5c0f\u677f\u6307\u6570k\u7ebf\u6570\u636e\n",
      "<br>\n",
      "* ts.get_hist_data('cyb'\uff09#\u83b7\u53d6\u521b\u4e1a\u677f\u6307\u6570k\u7ebf\u6570\u636e<br>\n"
     ]
    },
    {
     "cell_type": "code",
     "collapsed": false,
     "input": [
      "import tushare as ts\n",
      "\n",
      "df = ts.get_hist_data('600446') #\u4e00\u6b21\u6027\u83b7\u53d6\u5168\u90e8\u65e5k\u7ebf\u6570\u636e\n",
      "df.head()\n",
      "\n"
     ],
     "language": "python",
     "metadata": {},
     "outputs": [
      {
       "html": [
        "<div style=\"max-height:1000px;max-width:1500px;overflow:auto;\">\n",
        "<table border=\"1\" class=\"dataframe\">\n",
        "  <thead>\n",
        "    <tr style=\"text-align: right;\">\n",
        "      <th></th>\n",
        "      <th>open</th>\n",
        "      <th>high</th>\n",
        "      <th>close</th>\n",
        "      <th>low</th>\n",
        "      <th>volume</th>\n",
        "      <th>price_change</th>\n",
        "      <th>p_change</th>\n",
        "      <th>ma5</th>\n",
        "      <th>ma10</th>\n",
        "      <th>ma20</th>\n",
        "      <th>v_ma5</th>\n",
        "      <th>v_ma10</th>\n",
        "      <th>v_ma20</th>\n",
        "      <th>turnover</th>\n",
        "    </tr>\n",
        "    <tr>\n",
        "      <th>date</th>\n",
        "      <th></th>\n",
        "      <th></th>\n",
        "      <th></th>\n",
        "      <th></th>\n",
        "      <th></th>\n",
        "      <th></th>\n",
        "      <th></th>\n",
        "      <th></th>\n",
        "      <th></th>\n",
        "      <th></th>\n",
        "      <th></th>\n",
        "      <th></th>\n",
        "      <th></th>\n",
        "      <th></th>\n",
        "    </tr>\n",
        "  </thead>\n",
        "  <tbody>\n",
        "    <tr>\n",
        "      <th>2016-02-05</th>\n",
        "      <td> 30.90</td>\n",
        "      <td> 31.57</td>\n",
        "      <td> 30.80</td>\n",
        "      <td> 30.65</td>\n",
        "      <td> 200223.08</td>\n",
        "      <td>-0.16</td>\n",
        "      <td>-0.52</td>\n",
        "      <td> 30.550</td>\n",
        "      <td> 33.738</td>\n",
        "      <td> 40.439</td>\n",
        "      <td> 262799.91</td>\n",
        "      <td> 236904.77</td>\n",
        "      <td> 303479.65</td>\n",
        "      <td> 2.50</td>\n",
        "    </tr>\n",
        "    <tr>\n",
        "      <th>2016-02-04</th>\n",
        "      <td> 30.65</td>\n",
        "      <td> 31.65</td>\n",
        "      <td> 31.00</td>\n",
        "      <td> 30.50</td>\n",
        "      <td> 255890.89</td>\n",
        "      <td> 0.81</td>\n",
        "      <td> 2.68</td>\n",
        "      <td> 30.868</td>\n",
        "      <td> 35.588</td>\n",
        "      <td> 41.264</td>\n",
        "      <td> 321294.31</td>\n",
        "      <td> 255286.68</td>\n",
        "      <td> 315643.33</td>\n",
        "      <td> 3.21</td>\n",
        "    </tr>\n",
        "    <tr>\n",
        "      <th>2016-02-03</th>\n",
        "      <td> 30.00</td>\n",
        "      <td> 30.44</td>\n",
        "      <td> 30.15</td>\n",
        "      <td> 29.45</td>\n",
        "      <td> 233781.88</td>\n",
        "      <td>-0.70</td>\n",
        "      <td>-2.27</td>\n",
        "      <td> 31.122</td>\n",
        "      <td> 37.553</td>\n",
        "      <td> 41.996</td>\n",
        "      <td> 370429.95</td>\n",
        "      <td> 288092.67</td>\n",
        "      <td> 320077.41</td>\n",
        "      <td> 2.93</td>\n",
        "    </tr>\n",
        "    <tr>\n",
        "      <th>2016-02-02</th>\n",
        "      <td> 30.10</td>\n",
        "      <td> 31.52</td>\n",
        "      <td> 30.84</td>\n",
        "      <td> 30.10</td>\n",
        "      <td> 290250.09</td>\n",
        "      <td> 0.89</td>\n",
        "      <td> 2.97</td>\n",
        "      <td> 32.264</td>\n",
        "      <td> 39.278</td>\n",
        "      <td> 42.783</td>\n",
        "      <td> 330728.57</td>\n",
        "      <td> 297874.58</td>\n",
        "      <td> 323929.82</td>\n",
        "      <td> 3.64</td>\n",
        "    </tr>\n",
        "    <tr>\n",
        "      <th>2016-02-01</th>\n",
        "      <td> 32.39</td>\n",
        "      <td> 32.39</td>\n",
        "      <td> 29.96</td>\n",
        "      <td> 29.40</td>\n",
        "      <td> 333853.62</td>\n",
        "      <td>-2.46</td>\n",
        "      <td>-7.59</td>\n",
        "      <td> 34.064</td>\n",
        "      <td> 41.051</td>\n",
        "      <td> 43.537</td>\n",
        "      <td> 275490.15</td>\n",
        "      <td> 346211.14</td>\n",
        "      <td> 327473.00</td>\n",
        "      <td> 4.19</td>\n",
        "    </tr>\n",
        "  </tbody>\n",
        "</table>\n",
        "</div>"
       ],
       "metadata": {},
       "output_type": "pyout",
       "prompt_number": 4,
       "text": [
        "             open   high  close    low     volume  price_change  p_change  \\\n",
        "date                                                                        \n",
        "2016-02-05  30.90  31.57  30.80  30.65  200223.08         -0.16     -0.52   \n",
        "2016-02-04  30.65  31.65  31.00  30.50  255890.89          0.81      2.68   \n",
        "2016-02-03  30.00  30.44  30.15  29.45  233781.88         -0.70     -2.27   \n",
        "2016-02-02  30.10  31.52  30.84  30.10  290250.09          0.89      2.97   \n",
        "2016-02-01  32.39  32.39  29.96  29.40  333853.62         -2.46     -7.59   \n",
        "\n",
        "               ma5    ma10    ma20      v_ma5     v_ma10     v_ma20  turnover  \n",
        "date                                                                           \n",
        "2016-02-05  30.550  33.738  40.439  262799.91  236904.77  303479.65      2.50  \n",
        "2016-02-04  30.868  35.588  41.264  321294.31  255286.68  315643.33      3.21  \n",
        "2016-02-03  31.122  37.553  41.996  370429.95  288092.67  320077.41      2.93  \n",
        "2016-02-02  32.264  39.278  42.783  330728.57  297874.58  323929.82      3.64  \n",
        "2016-02-01  34.064  41.051  43.537  275490.15  346211.14  327473.00      4.19  "
       ]
      }
     ],
     "prompt_number": 4
    },
    {
     "cell_type": "markdown",
     "metadata": {},
     "source": [
      "# \u590d\u6743\u6570\u636e\u00b6\n",
      "\n",
      "\u83b7\u53d6\u5386\u53f2\u590d\u6743\u6570\u636e\uff0c\u5206\u4e3a\u524d\u590d\u6743\u548c\u540e\u590d\u6743\u6570\u636e\uff0c\u63a5\u53e3\u63d0\u4f9b\u80a1\u7968\u4e0a\u5e02\u4ee5\u6765\u6240\u6709\u5386\u53f2\u6570\u636e\uff0c\u9ed8\u8ba4\u4e3a\u524d\u590d\u6743\u3002\n",
      "\u5982\u679c\u4e0d\u8bbe\u5b9a\u5f00\u59cb\u548c\u7ed3\u675f\u65e5\u671f\uff0c\u5219\u8fd4\u56de\u8fd1\u4e00\u5e74\u7684\u590d\u6743\u6570\u636e\uff0c\u4ece\u6027\u80fd\u4e0a\u8003\u8651\uff0c\u63a8\u8350\u8bbe\u5b9a\u5f00\u59cb\u65e5\u671f\u548c\u7ed3\u675f\u65e5\u671f\uff0c\u800c\u4e14\u6700\u597d\u4e0d\u8981\u8d85\u8fc7\u4e09\u5e74\u4ee5\u4e0a\uff0c\u83b7\u53d6\u5168\u90e8\u5386\u53f2\u6570\u636e\uff0c\u8bf7\u5206\u5e74\u6bb5\u5206\u6b65\u83b7\u53d6\uff0c\u53d6\u5230\u6570\u636e\u540e\uff0c\u8bf7\u53ca\u65f6\u5728\u672c\u5730\u5b58\u50a8\u3002\n",
      "\u83b7\u53d6\u4e2a\u80a1\u9996\u4e2a\u4e0a\u5e02\u65e5\u671f\uff0c\n",
      "### \u8bf7\u53c2\u8003\u4ee5\u4e0b\u65b9\u6cd5\uff1a\n",
      "\n",
      "* df = ts.get_stock_basics()\n",
      "* date = df.ix['600848']['timeToMarket'] #\u4e0a\u5e02\u65e5\u671fYYYYMMDD\n",
      "\n",
      "\u672c\u63a5\u53e3\u8fd8\u63d0\u4f9b\u5927\u76d8\u6307\u6570\u7684\u5168\u90e8\u5386\u53f2\u6570\u636e\uff0c\u8c03\u7528\u65f6\uff0c\u8bf7\u52a1\u5fc5\u8bbe\u5b9aindex\u53c2\u6570\u4e3aTrue,\u7531\u4e8e\u5927\u76d8\u6307\u6570\u4e0d\u5b58\u5728\u590d\u6743\u7684\u95ee\u9898\uff0c\u6545\u53ef\u4ee5\u5ffd\u7565autype\u53c2\u6570\u3002\n",
      "\n",
      "* ts.get_h_data('002337') #\u524d\u590d\u6743\n",
      "* ts.get_h_data('002337', autype='hfq') #\u540e\u590d\u6743\n",
      "* ts.get_h_data('002337', autype=None) #\u4e0d\u590d\u6743\n",
      "* ts.get_h_data('002337', start='2015-01-01', end='2015-03-16') #\u4e24\u4e2a\u65e5\u671f\u4e4b\u95f4\u7684\u524d\u590d\u6743\u6570\u636e\n",
      "\n",
      "* ts.get_h_data('399106', index=True) #\u6df1\u5733\u7efc\u5408\u6307\u6570\n",
      "\n",
      "### \u53c2\u6570\u8bf4\u660e\uff1a\n",
      "\n",
      "* code:string,\u80a1\u7968\u4ee3\u7801 e.g. 600848\n",
      "* start:string,\u5f00\u59cb\u65e5\u671f format\uff1aYYYY-MM-DD \u4e3a\u7a7a\u65f6\u53d6\u5f53\u524d\u65e5\u671f\n",
      "* end:string,\u7ed3\u675f\u65e5\u671f format\uff1aYYYY-MM-DD \u4e3a\u7a7a\u65f6\u53d6\u53bb\u5e74\u4eca\u65e5\n",
      "* autype:string,\u590d\u6743\u7c7b\u578b\uff0cqfq-\u524d\u590d\u6743 hfq-\u540e\u590d\u6743 None-\u4e0d\u590d\u6743\uff0c\u9ed8\u8ba4\u4e3aqfq\n",
      "* index:Boolean\uff0c\u662f\u5426\u662f\u5927\u76d8\u6307\u6570\uff0c\u9ed8\u8ba4\u4e3aFalse\n",
      "* retry_count : int, \u9ed8\u8ba43,\u5982\u9047\u7f51\u7edc\u7b49\u95ee\u9898\u91cd\u590d\u6267\u884c\u7684\u6b21\u6570\n",
      "* pause : int, \u9ed8\u8ba4 0,\u91cd\u590d\u8bf7\u6c42\u6570\u636e\u8fc7\u7a0b\u4e2d\u6682\u505c\u7684\u79d2\u6570\uff0c\u9632\u6b62\u8bf7\u6c42\u95f4\u9694\u65f6\u95f4\u592a\u77ed\u51fa\u73b0\u7684\u95ee\u9898\n",
      "\n",
      "### \u8fd4\u56de\u503c\u8bf4\u660e\uff1a\n",
      "\n",
      "* date : \u4ea4\u6613\u65e5\u671f (index)\n",
      "* open : \u5f00\u76d8\u4ef7\n",
      "* high : \u6700\u9ad8\u4ef7\n",
      "* close : \u6536\u76d8\u4ef7\n",
      "* low : \u6700\u4f4e\u4ef7\n",
      "* volume : \u6210\u4ea4\u91cf\n",
      "* amount : \u6210\u4ea4\u91d1\u989d"
     ]
    },
    {
     "cell_type": "code",
     "collapsed": false,
     "input": [
      "import tushare as ts\n",
      "\n",
      "dfbasic = ts.get_stock_basics()\n",
      "date = dfbasic.ix['600446']['timeToMarket'] #\u4e0a\u5e02\u65e5\u671fYYYYMMDD\n",
      "print date\n",
      "\n",
      "df = ts.get_h_data('600446',start='2003-12-24')\n",
      "df.head()\n",
      "print '\\n ... \\n'\n",
      "df.describe()\n",
      "\n",
      "# path_or_buf: json\u6587\u4ef6\u5b58\u653e\u8def\u5f84\n",
      "# orient:json\u683c\u5f0f\u987a\u5e8f\uff0c\u5305\u62ec columns\uff0crecords\uff0cindex\uff0csplit\uff0cvalues\uff0c\u9ed8\u8ba4\u4e3acolumns\n",
      "# force_ascii: \u5c06\u5b57\u7b26\u8f6cASCII\uff0c\u9ed8\u8ba4\u4e3aTrue\n",
      "#print df.to_json(orient='columns')\n"
     ],
     "language": "python",
     "metadata": {},
     "outputs": [
      {
       "output_type": "stream",
       "stream": "stdout",
       "text": [
        "20031224\n",
        "[Getting data:]"
       ]
      },
      {
       "output_type": "stream",
       "stream": "stdout",
       "text": [
        "#"
       ]
      },
      {
       "output_type": "stream",
       "stream": "stdout",
       "text": [
        "#"
       ]
      },
      {
       "output_type": "stream",
       "stream": "stdout",
       "text": [
        "#"
       ]
      },
      {
       "output_type": "stream",
       "stream": "stdout",
       "text": [
        "#"
       ]
      },
      {
       "output_type": "stream",
       "stream": "stdout",
       "text": [
        "#"
       ]
      },
      {
       "output_type": "stream",
       "stream": "stdout",
       "text": [
        "#"
       ]
      },
      {
       "output_type": "stream",
       "stream": "stdout",
       "text": [
        "#"
       ]
      },
      {
       "output_type": "stream",
       "stream": "stdout",
       "text": [
        "#"
       ]
      },
      {
       "output_type": "stream",
       "stream": "stdout",
       "text": [
        "#"
       ]
      },
      {
       "output_type": "stream",
       "stream": "stdout",
       "text": [
        "#"
       ]
      },
      {
       "output_type": "stream",
       "stream": "stdout",
       "text": [
        "#"
       ]
      },
      {
       "output_type": "stream",
       "stream": "stdout",
       "text": [
        "#"
       ]
      },
      {
       "output_type": "stream",
       "stream": "stdout",
       "text": [
        "#"
       ]
      },
      {
       "output_type": "stream",
       "stream": "stdout",
       "text": [
        "#"
       ]
      },
      {
       "output_type": "stream",
       "stream": "stdout",
       "text": [
        "#"
       ]
      },
      {
       "output_type": "stream",
       "stream": "stdout",
       "text": [
        "#"
       ]
      },
      {
       "output_type": "stream",
       "stream": "stdout",
       "text": [
        "#"
       ]
      },
      {
       "output_type": "stream",
       "stream": "stdout",
       "text": [
        "#"
       ]
      },
      {
       "output_type": "stream",
       "stream": "stdout",
       "text": [
        "#"
       ]
      },
      {
       "output_type": "stream",
       "stream": "stdout",
       "text": [
        "#"
       ]
      },
      {
       "output_type": "stream",
       "stream": "stdout",
       "text": [
        "#"
       ]
      },
      {
       "output_type": "stream",
       "stream": "stdout",
       "text": [
        "#"
       ]
      },
      {
       "output_type": "stream",
       "stream": "stdout",
       "text": [
        "#"
       ]
      },
      {
       "output_type": "stream",
       "stream": "stdout",
       "text": [
        "#"
       ]
      },
      {
       "output_type": "stream",
       "stream": "stdout",
       "text": [
        "#"
       ]
      },
      {
       "output_type": "stream",
       "stream": "stdout",
       "text": [
        "#"
       ]
      },
      {
       "output_type": "stream",
       "stream": "stdout",
       "text": [
        "#"
       ]
      },
      {
       "output_type": "stream",
       "stream": "stdout",
       "text": [
        "#"
       ]
      },
      {
       "output_type": "stream",
       "stream": "stdout",
       "text": [
        "#"
       ]
      },
      {
       "output_type": "stream",
       "stream": "stdout",
       "text": [
        "#"
       ]
      },
      {
       "output_type": "stream",
       "stream": "stdout",
       "text": [
        "#"
       ]
      },
      {
       "output_type": "stream",
       "stream": "stdout",
       "text": [
        "#"
       ]
      },
      {
       "output_type": "stream",
       "stream": "stdout",
       "text": [
        "#"
       ]
      },
      {
       "output_type": "stream",
       "stream": "stdout",
       "text": [
        "#"
       ]
      },
      {
       "output_type": "stream",
       "stream": "stdout",
       "text": [
        "#"
       ]
      },
      {
       "output_type": "stream",
       "stream": "stdout",
       "text": [
        "#"
       ]
      },
      {
       "output_type": "stream",
       "stream": "stdout",
       "text": [
        "#"
       ]
      },
      {
       "output_type": "stream",
       "stream": "stdout",
       "text": [
        "#"
       ]
      },
      {
       "output_type": "stream",
       "stream": "stdout",
       "text": [
        "#"
       ]
      },
      {
       "output_type": "stream",
       "stream": "stdout",
       "text": [
        "#"
       ]
      },
      {
       "output_type": "stream",
       "stream": "stdout",
       "text": [
        "#"
       ]
      },
      {
       "output_type": "stream",
       "stream": "stdout",
       "text": [
        "#"
       ]
      },
      {
       "output_type": "stream",
       "stream": "stdout",
       "text": [
        "#"
       ]
      },
      {
       "output_type": "stream",
       "stream": "stdout",
       "text": [
        "#"
       ]
      },
      {
       "output_type": "stream",
       "stream": "stdout",
       "text": [
        "#"
       ]
      },
      {
       "output_type": "stream",
       "stream": "stdout",
       "text": [
        "#"
       ]
      },
      {
       "output_type": "stream",
       "stream": "stdout",
       "text": [
        "#"
       ]
      },
      {
       "output_type": "stream",
       "stream": "stdout",
       "text": [
        "#"
       ]
      },
      {
       "output_type": "stream",
       "stream": "stdout",
       "text": [
        "#"
       ]
      },
      {
       "output_type": "stream",
       "stream": "stdout",
       "text": [
        "\n",
        " ... \n",
        "\n"
       ]
      }
     ],
     "prompt_number": 13
    },
    {
     "cell_type": "markdown",
     "metadata": {},
     "source": [
      "##LaTex \u6f14\u793a\n",
      "\n",
      "---\n",
      "$Z=\\frac{X-\\bar{X}}{S}$ "
     ]
    },
    {
     "cell_type": "code",
     "collapsed": false,
     "input": [
      "import matplotlib.pyplot as plt\n",
      "import numpy as np\n",
      "\n",
      "x = np.linspace(0,3*np.pi,500)\n",
      "plt.plot(x,np.sin(x))"
     ],
     "language": "python",
     "metadata": {},
     "outputs": [
      {
       "metadata": {},
       "output_type": "pyout",
       "prompt_number": 11,
       "text": [
        "[<matplotlib.lines.Line2D at 0x7f6bdbaa4810>]"
       ]
      }
     ],
     "prompt_number": 11
    },
    {
     "cell_type": "code",
     "collapsed": false,
     "input": [
      "# -*- coding: utf-8 -*-\n",
      "import numpy as np\n",
      "import matplotlib.pyplot as plt\n",
      "\n",
      "x = np.linspace(0, 10, 1000)\n",
      "y = np.sin(x)\n",
      "z = np.cos(x**2)\n",
      "\n",
      "plt.figure(figsize=(8,4))\n",
      "plt.plot(x,y,label=\"$sin(x)$\",color=\"red\",linewidth=2)\n",
      "plt.plot(x,z,\"b--\",label=\"$cos(x^2)$\")\n",
      "plt.xlabel(\"Time(s)\")\n",
      "plt.ylabel(\"Volt\")\n",
      "plt.title(\"PyPlot First Example\")\n",
      "plt.ylim(-1.2,1.2)\n",
      "plt.legend()\n",
      "plt.show()"
     ],
     "language": "python",
     "metadata": {},
     "outputs": [],
     "prompt_number": 10
    },
    {
     "cell_type": "code",
     "collapsed": false,
     "input": [],
     "language": "python",
     "metadata": {},
     "outputs": []
    }
   ],
   "metadata": {}
  }
 ]
}