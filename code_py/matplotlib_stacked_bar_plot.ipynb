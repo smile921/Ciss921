{
 "metadata": {
  "name": "",
  "signature": "sha256:267f41f412f147dfa89690e4b76763993da24e0d25f9da2dd9e61997be7fdf45"
 },
 "nbformat": 3,
 "nbformat_minor": 0,
 "worksheets": [
  {
   "cells": [
    {
     "cell_type": "markdown",
     "metadata": {},
     "source": [
      "# Stacked Bar Plot In MatPlotLib\n",
      "\n",
      "- **Author:** [Chris Albon](http://www.chrisalbon.com/), [@ChrisAlbon](https://twitter.com/chrisalbon)\n",
      "- **Date:** -\n",
      "- **Repo:** [Python 3 code snippets for data science](https://github.com/chrisalbon/code_py)\n",
      "- **Note:** Based on: [Sebastian Raschka](http://nbviewer.ipython.org/github/rasbt/matplotlib-gallery/blob/master/ipynb/barplots.ipynb)."
     ]
    },
    {
     "cell_type": "markdown",
     "metadata": {},
     "source": [
      "## Preliminaries"
     ]
    },
    {
     "cell_type": "code",
     "collapsed": false,
     "input": [
      "%matplotlib inline\n",
      "import pandas as pd\n",
      "import matplotlib.pyplot as plt\n",
      "import numpy as np"
     ],
     "language": "python",
     "metadata": {},
     "outputs": [],
     "prompt_number": 1
    },
    {
     "cell_type": "markdown",
     "metadata": {},
     "source": [
      "## Create dataframe"
     ]
    },
    {
     "cell_type": "code",
     "collapsed": false,
     "input": [
      "raw_data = {'first_name': ['Jason', 'Molly', 'Tina', 'Jake', 'Amy'],\n",
      "        'pre_score': [4, 24, 31, 2, 3],\n",
      "        'mid_score': [25, 94, 57, 62, 70],\n",
      "        'post_score': [5, 43, 23, 23, 51]}\n",
      "df = pd.DataFrame(raw_data, columns = ['first_name', 'pre_score', 'mid_score', 'post_score'])\n",
      "df"
     ],
     "language": "python",
     "metadata": {},
     "outputs": [
      {
       "html": [
        "<div style=\"max-height:1000px;max-width:1500px;overflow:auto;\">\n",
        "<table border=\"1\" class=\"dataframe\">\n",
        "  <thead>\n",
        "    <tr style=\"text-align: right;\">\n",
        "      <th></th>\n",
        "      <th>first_name</th>\n",
        "      <th>pre_score</th>\n",
        "      <th>mid_score</th>\n",
        "      <th>post_score</th>\n",
        "    </tr>\n",
        "  </thead>\n",
        "  <tbody>\n",
        "    <tr>\n",
        "      <th>0</th>\n",
        "      <td> Jason</td>\n",
        "      <td>  4</td>\n",
        "      <td> 25</td>\n",
        "      <td>  5</td>\n",
        "    </tr>\n",
        "    <tr>\n",
        "      <th>1</th>\n",
        "      <td> Molly</td>\n",
        "      <td> 24</td>\n",
        "      <td> 94</td>\n",
        "      <td> 43</td>\n",
        "    </tr>\n",
        "    <tr>\n",
        "      <th>2</th>\n",
        "      <td>  Tina</td>\n",
        "      <td> 31</td>\n",
        "      <td> 57</td>\n",
        "      <td> 23</td>\n",
        "    </tr>\n",
        "    <tr>\n",
        "      <th>3</th>\n",
        "      <td>  Jake</td>\n",
        "      <td>  2</td>\n",
        "      <td> 62</td>\n",
        "      <td> 23</td>\n",
        "    </tr>\n",
        "    <tr>\n",
        "      <th>4</th>\n",
        "      <td>   Amy</td>\n",
        "      <td>  3</td>\n",
        "      <td> 70</td>\n",
        "      <td> 51</td>\n",
        "    </tr>\n",
        "  </tbody>\n",
        "</table>\n",
        "</div>"
       ],
       "metadata": {},
       "output_type": "pyout",
       "prompt_number": 2,
       "text": [
        "  first_name  pre_score  mid_score  post_score\n",
        "0      Jason          4         25           5\n",
        "1      Molly         24         94          43\n",
        "2       Tina         31         57          23\n",
        "3       Jake          2         62          23\n",
        "4        Amy          3         70          51"
       ]
      }
     ],
     "prompt_number": 2
    },
    {
     "cell_type": "markdown",
     "metadata": {},
     "source": [
      "## Make plot"
     ]
    },
    {
     "cell_type": "code",
     "collapsed": false,
     "input": [
      "# Create the general blog and the \"subplots\" i.e. the bars\n",
      "f, ax1 = plt.subplots(1, figsize=(10,5))\n",
      "\n",
      "# Set the bar width\n",
      "bar_width = 0.75\n",
      "\n",
      "# positions of the left bar-boundaries\n",
      "bar_l = [i+1 for i in range(len(df['pre_score']))] \n",
      "\n",
      "# positions of the x-axis ticks (center of the bars as bar labels)\n",
      "tick_pos = [i+(bar_width/2) for i in bar_l] \n",
      "\n",
      "# Create a bar plot, in position bar_1\n",
      "ax1.bar(bar_l, \n",
      "        # using the pre_score data\n",
      "        df['pre_score'], \n",
      "        # set the width\n",
      "        width=bar_width,\n",
      "        # with the label pre score\n",
      "        label='Pre Score', \n",
      "        # with alpha 0.5\n",
      "        alpha=0.5, \n",
      "        # with color\n",
      "        color='#F4561D')\n",
      "\n",
      "# Create a bar plot, in position bar_1\n",
      "ax1.bar(bar_l, \n",
      "        # using the mid_score data\n",
      "        df['mid_score'], \n",
      "        # set the width\n",
      "        width=bar_width,\n",
      "        # with pre_score on the bottom\n",
      "        bottom=df['pre_score'], \n",
      "        # with the label mid score\n",
      "        label='Mid Score', \n",
      "        # with alpha 0.5\n",
      "        alpha=0.5, \n",
      "        # with color\n",
      "        color='#F1911E')\n",
      "\n",
      "# Create a bar plot, in position bar_1\n",
      "ax1.bar(bar_l, \n",
      "        # using the post_score data\n",
      "        df['post_score'], \n",
      "        # set the width\n",
      "        width=bar_width,\n",
      "        # with pre_score and mid_score on the bottom\n",
      "        bottom=[i+j for i,j in zip(df['pre_score'],df['mid_score'])], \n",
      "        # with the label post score\n",
      "        label='Post Score', \n",
      "        # with alpha 0.5\n",
      "        alpha=0.5, \n",
      "        # with color\n",
      "        color='#F1BD1A')\n",
      "\n",
      "# set the x ticks with names\n",
      "plt.xticks(tick_pos, df['first_name'])\n",
      "\n",
      "# Set the label and legends\n",
      "ax1.set_ylabel(\"Total Score\")\n",
      "ax1.set_xlabel(\"Test Subject\")\n",
      "plt.legend(loc='upper left')\n",
      "\n",
      "# Set a buffer around the edge\n",
      "plt.xlim([min(tick_pos)-bar_width, max(tick_pos)+bar_width])"
     ],
     "language": "python",
     "metadata": {},
     "outputs": [
      {
       "metadata": {},
       "output_type": "pyout",
       "prompt_number": 17,
       "text": [
        "(0.625, 6.125)"
       ]
      },
      {
       "metadata": {},
       "output_type": "display_data",
       "png": "[encoded data removed]",
       "text": [
        "<matplotlib.figure.Figure at 0x1089b4a50>"
       ]
      }
     ],
     "prompt_number": 17
    }
   ],
   "metadata": {}
  }
 ]
}