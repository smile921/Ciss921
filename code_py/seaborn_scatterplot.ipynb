{
 "metadata": {
  "name": "",
  "signature": "sha256:dd6a7284493f691f951d7a1d29df2ff2c13dd3ae7f9608e80a7acd35ec24b3aa"
 },
 "nbformat": 3,
 "nbformat_minor": 0,
 "worksheets": [
  {
   "cells": [
    {
     "cell_type": "markdown",
     "metadata": {},
     "source": [
      "# Creating Scatterplots with Seaborn\n",
      "\n",
      "- **Author:** [Chris Albon](http://www.chrisalbon.com/), [@ChrisAlbon](https://twitter.com/chrisalbon)\n",
      "- **Date:** -\n",
      "- **Repo:** [Python 3 code snippets for data science](https://github.com/chrisalbon/code_py)\n",
      "- **Note:**"
     ]
    },
    {
     "cell_type": "markdown",
     "metadata": {},
     "source": [
      "## Preliminaries"
     ]
    },
    {
     "cell_type": "code",
     "collapsed": false,
     "input": [
      "import pandas as pd\n",
      "%matplotlib inline\n",
      "import random\n",
      "import matplotlib.pyplot as plt\n",
      "import seaborn as sns"
     ],
     "language": "python",
     "metadata": {},
     "outputs": [],
     "prompt_number": 1
    },
    {
     "cell_type": "code",
     "collapsed": false,
     "input": [
      "df = pd.DataFrame()\n",
      "\n",
      "df['x'] = random.sample(range(1, 1000), 5)\n",
      "df['y'] = random.sample(range(1, 1000), 5)\n",
      "df['z'] = [1,0,0,1,0]\n",
      "df['k'] = ['male','male','male','female','female']"
     ],
     "language": "python",
     "metadata": {},
     "outputs": [],
     "prompt_number": 2
    },
    {
     "cell_type": "code",
     "collapsed": false,
     "input": [
      "df.head()"
     ],
     "language": "python",
     "metadata": {},
     "outputs": [
      {
       "html": [
        "<div style=\"max-height:1000px;max-width:1500px;overflow:auto;\">\n",
        "<table border=\"1\" class=\"dataframe\">\n",
        "  <thead>\n",
        "    <tr style=\"text-align: right;\">\n",
        "      <th></th>\n",
        "      <th>x</th>\n",
        "      <th>y</th>\n",
        "      <th>z</th>\n",
        "      <th>k</th>\n",
        "    </tr>\n",
        "  </thead>\n",
        "  <tbody>\n",
        "    <tr>\n",
        "      <th>0</th>\n",
        "      <td> 859</td>\n",
        "      <td> 714</td>\n",
        "      <td> 1</td>\n",
        "      <td>   male</td>\n",
        "    </tr>\n",
        "    <tr>\n",
        "      <th>1</th>\n",
        "      <td>  70</td>\n",
        "      <td> 321</td>\n",
        "      <td> 0</td>\n",
        "      <td>   male</td>\n",
        "    </tr>\n",
        "    <tr>\n",
        "      <th>2</th>\n",
        "      <td> 378</td>\n",
        "      <td>  12</td>\n",
        "      <td> 0</td>\n",
        "      <td>   male</td>\n",
        "    </tr>\n",
        "    <tr>\n",
        "      <th>3</th>\n",
        "      <td> 737</td>\n",
        "      <td>  93</td>\n",
        "      <td> 1</td>\n",
        "      <td> female</td>\n",
        "    </tr>\n",
        "    <tr>\n",
        "      <th>4</th>\n",
        "      <td> 375</td>\n",
        "      <td> 956</td>\n",
        "      <td> 0</td>\n",
        "      <td> female</td>\n",
        "    </tr>\n",
        "  </tbody>\n",
        "</table>\n",
        "</div>"
       ],
       "metadata": {},
       "output_type": "pyout",
       "prompt_number": 3,
       "text": [
        "     x    y  z       k\n",
        "0  859  714  1    male\n",
        "1   70  321  0    male\n",
        "2  378   12  0    male\n",
        "3  737   93  1  female\n",
        "4  375  956  0  female"
       ]
      }
     ],
     "prompt_number": 3
    },
    {
     "cell_type": "markdown",
     "metadata": {},
     "source": [
      "## Scatterplot"
     ]
    },
    {
     "cell_type": "code",
     "collapsed": false,
     "input": [
      "sns.set_context(\"notebook\", font_scale=1.1)\n",
      "sns.set_style(\"ticks\")\n",
      "\n",
      "\n",
      "sns.lmplot('x', 'y', \n",
      "           data=df, \n",
      "           fit_reg=False, \n",
      "           dropna=True,\n",
      "           hue=\"z\",  \n",
      "           scatter_kws={\"marker\": \"D\", \n",
      "                        \"s\": 100})\n",
      "plt.title('Histogram of IQ')\n",
      "plt.xlabel('Time')\n",
      "plt.ylabel('Deaths')"
     ],
     "language": "python",
     "metadata": {},
     "outputs": [
      {
       "metadata": {},
       "output_type": "pyout",
       "prompt_number": 14,
       "text": [
        "<matplotlib.text.Text at 0x10b4a0850>"
       ]
      },
      {
       "metadata": {},
       "output_type": "display_data",
       "png": "[encoded data removed]",
       "text": [
        "<matplotlib.figure.Figure at 0x10b39e510>"
       ]
      }
     ],
     "prompt_number": 14
    }
   ],
   "metadata": {}
  }
 ]
}