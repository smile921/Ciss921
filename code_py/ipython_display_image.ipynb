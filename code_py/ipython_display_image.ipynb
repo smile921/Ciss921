{
 "metadata": {
  "name": "",
  "signature": "sha256:83c0a40b5fb6f66a04a5cce49d27cb4aacda2d3862613976a6aaa18536355de0"
 },
 "nbformat": 3,
 "nbformat_minor": 0,
 "worksheets": [
  {
   "cells": [
    {
     "cell_type": "markdown",
     "metadata": {},
     "source": [
      "# View an image in iPython\n",
      "\n",
      "- **Author:** [Chris Albon](http://www.chrisalbon.com/), [@ChrisAlbon](https://twitter.com/chrisalbon)\n",
      "- **Date:** -\n",
      "- **Repo:** [Python 3 code snippets for data science](https://github.com/chrisalbon/code_py)\n",
      "- **Note:**"
     ]
    },
    {
     "cell_type": "markdown",
     "metadata": {},
     "source": [
      "## Display an image"
     ]
    },
    {
     "cell_type": "code",
     "collapsed": false,
     "input": [
      "# Load the ipython display and image module\n",
      "from IPython.display import Image\n",
      "from IPython.display import display"
     ],
     "language": "python",
     "metadata": {},
     "outputs": [],
     "prompt_number": 4
    },
    {
     "cell_type": "code",
     "collapsed": false,
     "input": [
      "# display this image\n",
      "display(Image(url='http://history.nasa.gov/ap11ann/kippsphotos/5903.jpg'))"
     ],
     "language": "python",
     "metadata": {},
     "outputs": [
      {
       "html": [
        "<img src=\"http://history.nasa.gov/ap11ann/kippsphotos/5903.jpg\"/>"
       ],
       "metadata": {},
       "output_type": "display_data",
       "text": [
        "<IPython.core.display.Image at 0x105075d10>"
       ]
      }
     ],
     "prompt_number": 6
    },
    {
     "cell_type": "markdown",
     "metadata": {},
     "source": [
      "## Display an svg"
     ]
    },
    {
     "cell_type": "code",
     "collapsed": false,
     "input": [
      "# Load the svg module\n",
      "from IPython.display import SVG\n",
      "\n",
      "# Display an svg\n",
      "SVG(url='http://upload.wikimedia.org/wikipedia/en/a/a4/Flag_of_the_United_States.svg')"
     ],
     "language": "python",
     "metadata": {},
     "outputs": [
      {
       "metadata": {},
       "output_type": "pyout",
       "prompt_number": 8,
       "svg": [
        "<svg height=\"650\" width=\"1235\" xmlns=\"http://www.w3.org/2000/svg\" xmlns:xlink=\"http://www.w3.org/1999/xlink\">\n",
        "<defs>\n",
        "<polygon fill=\"#FFF\" id=\"pt\" points=\"-0.1624598481164531,0 0,-0.5 0.1624598481164531,0\" transform=\"scale(0.0616)\"/>\n",
        "<g id=\"star\"><use transform=\"rotate(-144)\" xlink:href=\"#pt\"/><use transform=\"rotate(-72)\" xlink:href=\"#pt\"/><use xlink:href=\"#pt\"/><use transform=\"rotate(72)\" xlink:href=\"#pt\"/><use transform=\"rotate(144)\" xlink:href=\"#pt\"/></g>\n",
        "<g id=\"s5\"><use x=\"-0.252\" xlink:href=\"#star\"/><use x=\"-0.126\" xlink:href=\"#star\"/><use xlink:href=\"#star\"/><use x=\"0.126\" xlink:href=\"#star\"/><use x=\"0.252\" xlink:href=\"#star\"/></g>\n",
        "<g id=\"s6\"><use x=\"-0.063\" xlink:href=\"#s5\"/><use x=\"0.315\" xlink:href=\"#star\"/></g>\n",
        "<g id=\"x4\"><use xlink:href=\"#s6\"/><use xlink:href=\"#s5\" y=\"0.054\"/><use xlink:href=\"#s6\" y=\"0.108\"/><use xlink:href=\"#s5\" y=\"0.162\"/></g>\n",
        "<g id=\"u\"><use xlink:href=\"#x4\" y=\"-0.216\"/><use xlink:href=\"#x4\"/><use xlink:href=\"#s6\" y=\"0.216\"/></g>\n",
        "<rect fill=\"#B22234\" height=\"50\" id=\"stripe\" width=\"1235\"/>\n",
        "</defs>\n",
        "<rect fill=\"#FFF\" height=\"650\" width=\"1235\"/><use xlink:href=\"#stripe\"/><use xlink:href=\"#stripe\" y=\"100\"/><use xlink:href=\"#stripe\" y=\"200\"/><use xlink:href=\"#stripe\" y=\"300\"/><use xlink:href=\"#stripe\" y=\"400\"/><use xlink:href=\"#stripe\" y=\"500\"/><use xlink:href=\"#stripe\" y=\"600\"/><rect fill=\"#3C3B6E\" height=\"350\" width=\"494\"/><use transform=\"translate(247,175) scale(650)\" xlink:href=\"#u\"/></svg>"
       ],
       "text": [
        "<IPython.core.display.SVG at 0x1050a95d0>"
       ]
      }
     ],
     "prompt_number": 8
    },
    {
     "cell_type": "code",
     "collapsed": false,
     "input": [],
     "language": "python",
     "metadata": {},
     "outputs": []
    }
   ],
   "metadata": {}
  }
 ]
}