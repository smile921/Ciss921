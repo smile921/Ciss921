{
 "metadata": {
  "name": "",
  "signature": "sha256:447e84feb0dbdd67128fd3628d7b9bf8187b033e261c8f3cc0056cc41c5a801a"
 },
 "nbformat": 3,
 "nbformat_minor": 0,
 "worksheets": [
  {
   "cells": [
    {
     "cell_type": "markdown",
     "metadata": {},
     "source": [
      "# Bar Plot In MatPlotLib\n",
      "\n",
      "- **Author:** [Chris Albon](http://www.chrisalbon.com/), [@ChrisAlbon](https://twitter.com/chrisalbon)\n",
      "- **Date:** -\n",
      "- **Repo:** [Python 3 code snippets for data science](https://github.com/chrisalbon/code_py)\n",
      "- **Note:** Based on: [Sebastian Raschka](http://nbviewer.ipython.org/github/rasbt/matplotlib-gallery/blob/master/ipynb/barplots.ipynb)."
     ]
    },
    {
     "cell_type": "markdown",
     "metadata": {},
     "source": [
      "## Preliminaries"
     ]
    },
    {
     "cell_type": "code",
     "collapsed": false,
     "input": [
      "%matplotlib inline\n",
      "import pandas as pd\n",
      "import matplotlib.pyplot as plt\n",
      "import numpy as np"
     ],
     "language": "python",
     "metadata": {},
     "outputs": [],
     "prompt_number": 4
    },
    {
     "cell_type": "markdown",
     "metadata": {},
     "source": [
      "## Create dataframe"
     ]
    },
    {
     "cell_type": "code",
     "collapsed": false,
     "input": [
      "raw_data = {'first_name': ['Jason', 'Molly', 'Tina', 'Jake', 'Amy'],\n",
      "        'pre_score': [4, 24, 31, 2, 3],\n",
      "        'mid_score': [25, 94, 57, 62, 70],\n",
      "        'post_score': [5, 43, 23, 23, 51]}\n",
      "df = pd.DataFrame(raw_data, columns = ['first_name', 'pre_score', 'mid_score', 'post_score'])\n",
      "df"
     ],
     "language": "python",
     "metadata": {},
     "outputs": [
      {
       "html": [
        "<div style=\"max-height:1000px;max-width:1500px;overflow:auto;\">\n",
        "<table border=\"1\" class=\"dataframe\">\n",
        "  <thead>\n",
        "    <tr style=\"text-align: right;\">\n",
        "      <th></th>\n",
        "      <th>first_name</th>\n",
        "      <th>pre_score</th>\n",
        "      <th>mid_score</th>\n",
        "      <th>post_score</th>\n",
        "    </tr>\n",
        "  </thead>\n",
        "  <tbody>\n",
        "    <tr>\n",
        "      <th>0</th>\n",
        "      <td> Jason</td>\n",
        "      <td>  4</td>\n",
        "      <td> 25</td>\n",
        "      <td>  5</td>\n",
        "    </tr>\n",
        "    <tr>\n",
        "      <th>1</th>\n",
        "      <td> Molly</td>\n",
        "      <td> 24</td>\n",
        "      <td> 94</td>\n",
        "      <td> 43</td>\n",
        "    </tr>\n",
        "    <tr>\n",
        "      <th>2</th>\n",
        "      <td>  Tina</td>\n",
        "      <td> 31</td>\n",
        "      <td> 57</td>\n",
        "      <td> 23</td>\n",
        "    </tr>\n",
        "    <tr>\n",
        "      <th>3</th>\n",
        "      <td>  Jake</td>\n",
        "      <td>  2</td>\n",
        "      <td> 62</td>\n",
        "      <td> 23</td>\n",
        "    </tr>\n",
        "    <tr>\n",
        "      <th>4</th>\n",
        "      <td>   Amy</td>\n",
        "      <td>  3</td>\n",
        "      <td> 70</td>\n",
        "      <td> 51</td>\n",
        "    </tr>\n",
        "  </tbody>\n",
        "</table>\n",
        "</div>"
       ],
       "metadata": {},
       "output_type": "pyout",
       "prompt_number": 5,
       "text": [
        "  first_name  pre_score  mid_score  post_score\n",
        "0      Jason          4         25           5\n",
        "1      Molly         24         94          43\n",
        "2       Tina         31         57          23\n",
        "3       Jake          2         62          23\n",
        "4        Amy          3         70          51"
       ]
      }
     ],
     "prompt_number": 5
    },
    {
     "cell_type": "markdown",
     "metadata": {},
     "source": [
      "## Make plot"
     ]
    },
    {
     "cell_type": "code",
     "collapsed": false,
     "input": [
      "# Create a list of the mean scores for each variable\n",
      "mean_values = [df['pre_score'].mean(), df['mid_score'].mean(), df['post_score'].mean()]\n",
      "\n",
      "# Create a list of variances, which are set at .25 above and below the score\n",
      "variance = [df['pre_score'].mean() * 0.25, df['pre_score'].mean() * 0.25, df['pre_score'].mean() * 0.25]\n",
      "\n",
      "# Set the bar labels\n",
      "bar_labels = ['Pre Score', 'Mid Score', 'Post Score']\n",
      "\n",
      "# Create the x position of the bars\n",
      "x_pos = list(range(len(bar_labels)))\n",
      "\n",
      "# Create the plot bars\n",
      "# In x position\n",
      "plt.bar(x_pos,\n",
      "        # using the data from the mean_values\n",
      "        mean_values, \n",
      "        # with a y-error lines set at variance\n",
      "        yerr=variance, \n",
      "        # aligned in the center\n",
      "        align='center',\n",
      "        # with color\n",
      "        color='#FFC222',\n",
      "        # alpha 0.5\n",
      "        alpha=0.5)\n",
      "\n",
      "# add a grid\n",
      "plt.grid()\n",
      "\n",
      "# set height of the y-axis\n",
      "max_y = max(zip(mean_values, variance)) # returns a tuple, here: (3, 5)\n",
      "plt.ylim([0, (max_y[0] + max_y[1]) * 1.1])\n",
      "\n",
      "# set axes labels and title\n",
      "plt.ylabel('Score')\n",
      "plt.xticks(x_pos, bar_labels)\n",
      "plt.title('Mean Scores For Each Test')\n",
      "\n",
      "plt.show()"
     ],
     "language": "python",
     "metadata": {},
     "outputs": [
      {
       "metadata": {},
       "output_type": "display_data",
       "png": "[encoded data removed]",
       "text": [
        "<matplotlib.figure.Figure at 0x10848a2d0>"
       ]
      }
     ],
     "prompt_number": 19
    },
    {
     "cell_type": "code",
     "collapsed": false,
     "input": [],
     "language": "python",
     "metadata": {},
     "outputs": []
    }
   ],
   "metadata": {}
  }
 ]
}