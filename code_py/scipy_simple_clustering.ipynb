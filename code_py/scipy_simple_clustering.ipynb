{
 "metadata": {
  "name": "",
  "signature": "sha256:aa98f80b41639aafb17423f8d0da326099e4c9231132a0d0b3ae2ee762cbafc0"
 },
 "nbformat": 3,
 "nbformat_minor": 0,
 "worksheets": [
  {
   "cells": [
    {
     "cell_type": "markdown",
     "metadata": {},
     "source": [
      "# Simple Clustering With SciPy\n",
      "\n",
      "- **Author:** [Chris Albon](http://www.chrisalbon.com/), [@ChrisAlbon](https://twitter.com/chrisalbon)\n",
      "- **Date:** -\n",
      "- **Repo:** [Python 3 code snippets for data science](https://github.com/chrisalbon/code_py)\n",
      "- **Note:**"
     ]
    },
    {
     "cell_type": "markdown",
     "metadata": {},
     "source": [
      "### Import modules"
     ]
    },
    {
     "cell_type": "code",
     "collapsed": false,
     "input": [
      "import numpy as np\n",
      "%matplotlib inline\n",
      "import matplotlib.pyplot as plt\n",
      "from scipy.cluster import vq"
     ],
     "language": "python",
     "metadata": {},
     "outputs": [],
     "prompt_number": 42
    },
    {
     "cell_type": "markdown",
     "metadata": {},
     "source": [
      "### Create coordinates for battles for each year of the war"
     ]
    },
    {
     "cell_type": "code",
     "collapsed": false,
     "input": [
      "# create 100 coordinate pairs (i.e. two values), then add 5 to all of them\n",
      "year_1 = np.random.randn(100, 2) + 5\n",
      "\n",
      "# create 30 coordinatee pairs (i.e. two values), then subtract 5 to all of them\n",
      "year_2 = np.random.randn(30, 2) - 5\n",
      "\n",
      "# create 50 coordinatee pairs (i.e. two values)\n",
      "year_3 = np.random.randn(50, 2)"
     ],
     "language": "python",
     "metadata": {},
     "outputs": [],
     "prompt_number": 14
    },
    {
     "cell_type": "markdown",
     "metadata": {},
     "source": [
      "### View the first 3 entries of each year of battles"
     ]
    },
    {
     "cell_type": "code",
     "collapsed": false,
     "input": [
      "print('year 1 battles:',  year_1[0:3])\n",
      "print('year 2 battles:', year_2[0:3])\n",
      "print('year 3 battles:', year_3[0:3])"
     ],
     "language": "python",
     "metadata": {},
     "outputs": [
      {
       "output_type": "stream",
       "stream": "stdout",
       "text": [
        "year 1 battles: [[ 3.87032104  4.93418141]\n",
        " [ 4.47603646  3.23230121]\n",
        " [ 6.15905943  4.55274026]]\n",
        "year 2 battles: [[-3.55642932 -3.13125097]\n",
        " [-5.83295449 -5.75787649]\n",
        " [-5.12144789 -5.00466761]]\n",
        "year 3 battles: [[-0.27557365 -0.65002898]\n",
        " [ 0.94593878 -0.46056352]\n",
        " [ 0.91003511  0.27888337]]\n"
       ]
      }
     ],
     "prompt_number": 19
    },
    {
     "cell_type": "markdown",
     "metadata": {},
     "source": [
      "### Pool all three years of coordinates"
     ]
    },
    {
     "cell_type": "code",
     "collapsed": false,
     "input": [
      "# vertically stack year_1, year_2, and year_3 elements\n",
      "battles = np.vstack([year_1, year_2, year_3])"
     ],
     "language": "python",
     "metadata": {},
     "outputs": [],
     "prompt_number": 20
    },
    {
     "cell_type": "markdown",
     "metadata": {},
     "source": [
      "### Cluster the battle locations into three groups"
     ]
    },
    {
     "cell_type": "code",
     "collapsed": false,
     "input": [
      "# calculate the centroid coordinates of each cluster \n",
      "# and the variance of all the clusters\n",
      "centroids, variance  = vq.kmeans(battles, 3)"
     ],
     "language": "python",
     "metadata": {},
     "outputs": [],
     "prompt_number": 30
    },
    {
     "cell_type": "markdown",
     "metadata": {},
     "source": [
      "### View the centroid coordinate for each of the three clusters"
     ]
    },
    {
     "cell_type": "code",
     "collapsed": false,
     "input": [
      "centroids"
     ],
     "language": "python",
     "metadata": {},
     "outputs": [
      {
       "metadata": {},
       "output_type": "pyout",
       "prompt_number": 32,
       "text": [
        "array([[ 4.89478443,  5.00806609],\n",
        "       [ 0.16770004,  0.01639683],\n",
        "       [-5.06447231, -4.99956259]])"
       ]
      }
     ],
     "prompt_number": 32
    },
    {
     "cell_type": "markdown",
     "metadata": {},
     "source": [
      "### View the variance of the clusters (they all share the same)"
     ]
    },
    {
     "cell_type": "code",
     "collapsed": false,
     "input": [
      "variance"
     ],
     "language": "python",
     "metadata": {},
     "outputs": [
      {
       "metadata": {},
       "output_type": "pyout",
       "prompt_number": 35,
       "text": [
        "1.2382236882037887"
       ]
      }
     ],
     "prompt_number": 35
    },
    {
     "cell_type": "markdown",
     "metadata": {},
     "source": [
      "### Seperate the battle data into clusters"
     ]
    },
    {
     "cell_type": "code",
     "collapsed": false,
     "input": [
      "identified, distance = vq.vq(battles, centroids)"
     ],
     "language": "python",
     "metadata": {},
     "outputs": [],
     "prompt_number": 36
    },
    {
     "cell_type": "markdown",
     "metadata": {},
     "source": [
      "### View the cluster of each battle"
     ]
    },
    {
     "cell_type": "code",
     "collapsed": false,
     "input": [
      "identified"
     ],
     "language": "python",
     "metadata": {},
     "outputs": []
    },
    {
     "cell_type": "markdown",
     "metadata": {},
     "source": [
      "### View the distance of each individual battle from their cluster's centroid"
     ]
    },
    {
     "cell_type": "code",
     "collapsed": false,
     "input": [
      "distance"
     ],
     "language": "python",
     "metadata": {},
     "outputs": []
    },
    {
     "cell_type": "markdown",
     "metadata": {},
     "source": [
      "### Index the battles data by the cluster to which they belong"
     ]
    },
    {
     "cell_type": "code",
     "collapsed": false,
     "input": [
      "cluster_1 = battles[identified == 0]\n",
      "cluster_2 = battles[identified == 1]\n",
      "cluster_3 = battles[identified == 2]"
     ],
     "language": "python",
     "metadata": {},
     "outputs": [],
     "prompt_number": 39
    },
    {
     "cell_type": "markdown",
     "metadata": {},
     "source": [
      "### Print the first three coordinate pairs of each cluster"
     ]
    },
    {
     "cell_type": "code",
     "collapsed": false,
     "input": [
      "print(cluster_1[0:3])\n",
      "print(cluster_2[0:3])\n",
      "print(cluster_3[0:3])"
     ],
     "language": "python",
     "metadata": {},
     "outputs": [
      {
       "output_type": "stream",
       "stream": "stdout",
       "text": [
        "[[ 3.87032104  4.93418141]\n",
        " [ 4.47603646  3.23230121]\n",
        " [ 6.15905943  4.55274026]]\n",
        "[[-0.27557365 -0.65002898]\n",
        " [ 0.94593878 -0.46056352]\n",
        " [ 0.91003511  0.27888337]]\n",
        "[[-3.55642932 -3.13125097]\n",
        " [-5.83295449 -5.75787649]\n",
        " [-5.12144789 -5.00466761]]\n"
       ]
      }
     ],
     "prompt_number": 43
    },
    {
     "cell_type": "markdown",
     "metadata": {},
     "source": [
      "### Plot all the battles, color each battle by cluster"
     ]
    },
    {
     "cell_type": "code",
     "collapsed": false,
     "input": [
      "# create a scatter plot there the x-axis is the first column of battles\n",
      "# the y-axis is the second column of battles, the size is 100, and\n",
      "# the color of each point is determined by the indentified variable\n",
      "plt.scatter(battles[:,0], battles[:,1], s=100, c=identified)"
     ],
     "language": "python",
     "metadata": {},
     "outputs": [
      {
       "metadata": {},
       "output_type": "pyout",
       "prompt_number": 58,
       "text": [
        "<matplotlib.collections.PathCollection at 0x10771b890>"
       ]
      },
      {
       "metadata": {},
       "output_type": "display_data",
       "png": "[encoded data removed]",
       "text": [
        "<matplotlib.figure.Figure at 0x10729a190>"
       ]
      }
     ],
     "prompt_number": 58
    }
   ],
   "metadata": {}
  }
 ]
}