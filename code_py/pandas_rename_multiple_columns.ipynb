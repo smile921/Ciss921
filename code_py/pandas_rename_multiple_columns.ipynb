{
 "metadata": {
  "name": "",
  "signature": "sha256:3113a7e0e4ec6514d646f502545a8d95d3d96e4de27d942ac98ef098a3bc0a6f"
 },
 "nbformat": 3,
 "nbformat_minor": 0,
 "worksheets": [
  {
   "cells": [
    {
     "cell_type": "markdown",
     "metadata": {},
     "source": [
      "# Rename Multiple Pandas Dataframe Column Names At Once\n",
      "\n",
      "- **Author:** [Chris Albon](http://www.chrisalbon.com/), [@ChrisAlbon](https://twitter.com/chrisalbon)\n",
      "- **Date:** -\n",
      "- **Repo:** [Python 3 code snippets for data science](https://github.com/chrisalbon/code_py)\n",
      "- **Note:**"
     ]
    },
    {
     "cell_type": "markdown",
     "metadata": {},
     "source": [
      "## Preliminaries"
     ]
    },
    {
     "cell_type": "code",
     "collapsed": false,
     "input": [
      "# Import modules\n",
      "import pandas as pd\n",
      "\n",
      "# Set ipython's max row display\n",
      "pd.set_option('display.max_row', 1000)\n",
      "\n",
      "# Set iPython's max column width to 50\n",
      "pd.set_option('display.max_columns', 50)"
     ],
     "language": "python",
     "metadata": {},
     "outputs": [],
     "prompt_number": 22
    },
    {
     "cell_type": "markdown",
     "metadata": {},
     "source": [
      "## Create an example dataframe"
     ]
    },
    {
     "cell_type": "code",
     "collapsed": false,
     "input": [
      "# Create an example dataframe\n",
      "data = {'Commander': ['Jason', 'Molly', 'Tina', 'Jake', 'Amy'], \n",
      "        'Date': ['2012, 02, 08', '2012, 02, 08', '2012, 02, 08', '2012, 02, 08', '2012, 02, 08'], \n",
      "        'Score': [4, 24, 31, 2, 3]}\n",
      "df = pd.DataFrame(data, index = ['Cochice', 'Pima', 'Santa Cruz', 'Maricopa', 'Yuma'])\n",
      "df"
     ],
     "language": "python",
     "metadata": {},
     "outputs": [
      {
       "html": [
        "<div style=\"max-height:1000px;max-width:1500px;overflow:auto;\">\n",
        "<table border=\"1\" class=\"dataframe\">\n",
        "  <thead>\n",
        "    <tr style=\"text-align: right;\">\n",
        "      <th></th>\n",
        "      <th>Commander</th>\n",
        "      <th>Date</th>\n",
        "      <th>Score</th>\n",
        "    </tr>\n",
        "  </thead>\n",
        "  <tbody>\n",
        "    <tr>\n",
        "      <th>Cochice</th>\n",
        "      <td> Jason</td>\n",
        "      <td> 2012, 02, 08</td>\n",
        "      <td>  4</td>\n",
        "    </tr>\n",
        "    <tr>\n",
        "      <th>Pima</th>\n",
        "      <td> Molly</td>\n",
        "      <td> 2012, 02, 08</td>\n",
        "      <td> 24</td>\n",
        "    </tr>\n",
        "    <tr>\n",
        "      <th>Santa Cruz</th>\n",
        "      <td>  Tina</td>\n",
        "      <td> 2012, 02, 08</td>\n",
        "      <td> 31</td>\n",
        "    </tr>\n",
        "    <tr>\n",
        "      <th>Maricopa</th>\n",
        "      <td>  Jake</td>\n",
        "      <td> 2012, 02, 08</td>\n",
        "      <td>  2</td>\n",
        "    </tr>\n",
        "    <tr>\n",
        "      <th>Yuma</th>\n",
        "      <td>   Amy</td>\n",
        "      <td> 2012, 02, 08</td>\n",
        "      <td>  3</td>\n",
        "    </tr>\n",
        "  </tbody>\n",
        "</table>\n",
        "</div>"
       ],
       "metadata": {},
       "output_type": "pyout",
       "prompt_number": 23,
       "text": [
        "           Commander          Date  Score\n",
        "Cochice        Jason  2012, 02, 08      4\n",
        "Pima           Molly  2012, 02, 08     24\n",
        "Santa Cruz      Tina  2012, 02, 08     31\n",
        "Maricopa        Jake  2012, 02, 08      2\n",
        "Yuma             Amy  2012, 02, 08      3"
       ]
      }
     ],
     "prompt_number": 23
    },
    {
     "cell_type": "markdown",
     "metadata": {},
     "source": [
      "## Rename Column Names"
     ]
    },
    {
     "cell_type": "code",
     "collapsed": false,
     "input": [
      "df.columns = ['Leader', 'Time', 'Score']"
     ],
     "language": "python",
     "metadata": {},
     "outputs": [],
     "prompt_number": 24
    },
    {
     "cell_type": "code",
     "collapsed": false,
     "input": [
      "df"
     ],
     "language": "python",
     "metadata": {},
     "outputs": [
      {
       "html": [
        "<div style=\"max-height:1000px;max-width:1500px;overflow:auto;\">\n",
        "<table border=\"1\" class=\"dataframe\">\n",
        "  <thead>\n",
        "    <tr style=\"text-align: right;\">\n",
        "      <th></th>\n",
        "      <th>Leader</th>\n",
        "      <th>Time</th>\n",
        "      <th>Score</th>\n",
        "    </tr>\n",
        "  </thead>\n",
        "  <tbody>\n",
        "    <tr>\n",
        "      <th>Cochice</th>\n",
        "      <td> Jason</td>\n",
        "      <td> 2012, 02, 08</td>\n",
        "      <td>  4</td>\n",
        "    </tr>\n",
        "    <tr>\n",
        "      <th>Pima</th>\n",
        "      <td> Molly</td>\n",
        "      <td> 2012, 02, 08</td>\n",
        "      <td> 24</td>\n",
        "    </tr>\n",
        "    <tr>\n",
        "      <th>Santa Cruz</th>\n",
        "      <td>  Tina</td>\n",
        "      <td> 2012, 02, 08</td>\n",
        "      <td> 31</td>\n",
        "    </tr>\n",
        "    <tr>\n",
        "      <th>Maricopa</th>\n",
        "      <td>  Jake</td>\n",
        "      <td> 2012, 02, 08</td>\n",
        "      <td>  2</td>\n",
        "    </tr>\n",
        "    <tr>\n",
        "      <th>Yuma</th>\n",
        "      <td>   Amy</td>\n",
        "      <td> 2012, 02, 08</td>\n",
        "      <td>  3</td>\n",
        "    </tr>\n",
        "  </tbody>\n",
        "</table>\n",
        "</div>"
       ],
       "metadata": {},
       "output_type": "pyout",
       "prompt_number": 25,
       "text": [
        "           Leader          Time  Score\n",
        "Cochice     Jason  2012, 02, 08      4\n",
        "Pima        Molly  2012, 02, 08     24\n",
        "Santa Cruz   Tina  2012, 02, 08     31\n",
        "Maricopa     Jake  2012, 02, 08      2\n",
        "Yuma          Amy  2012, 02, 08      3"
       ]
      }
     ],
     "prompt_number": 25
    },
    {
     "cell_type": "code",
     "collapsed": false,
     "input": [
      "df.rename(columns={'Leader': 'Commander'}, inplace=True)"
     ],
     "language": "python",
     "metadata": {},
     "outputs": [],
     "prompt_number": 26
    },
    {
     "cell_type": "code",
     "collapsed": false,
     "input": [
      "df"
     ],
     "language": "python",
     "metadata": {},
     "outputs": [
      {
       "html": [
        "<div style=\"max-height:1000px;max-width:1500px;overflow:auto;\">\n",
        "<table border=\"1\" class=\"dataframe\">\n",
        "  <thead>\n",
        "    <tr style=\"text-align: right;\">\n",
        "      <th></th>\n",
        "      <th>Commander</th>\n",
        "      <th>Time</th>\n",
        "      <th>Score</th>\n",
        "    </tr>\n",
        "  </thead>\n",
        "  <tbody>\n",
        "    <tr>\n",
        "      <th>Cochice</th>\n",
        "      <td> Jason</td>\n",
        "      <td> 2012, 02, 08</td>\n",
        "      <td>  4</td>\n",
        "    </tr>\n",
        "    <tr>\n",
        "      <th>Pima</th>\n",
        "      <td> Molly</td>\n",
        "      <td> 2012, 02, 08</td>\n",
        "      <td> 24</td>\n",
        "    </tr>\n",
        "    <tr>\n",
        "      <th>Santa Cruz</th>\n",
        "      <td>  Tina</td>\n",
        "      <td> 2012, 02, 08</td>\n",
        "      <td> 31</td>\n",
        "    </tr>\n",
        "    <tr>\n",
        "      <th>Maricopa</th>\n",
        "      <td>  Jake</td>\n",
        "      <td> 2012, 02, 08</td>\n",
        "      <td>  2</td>\n",
        "    </tr>\n",
        "    <tr>\n",
        "      <th>Yuma</th>\n",
        "      <td>   Amy</td>\n",
        "      <td> 2012, 02, 08</td>\n",
        "      <td>  3</td>\n",
        "    </tr>\n",
        "  </tbody>\n",
        "</table>\n",
        "</div>"
       ],
       "metadata": {},
       "output_type": "pyout",
       "prompt_number": 27,
       "text": [
        "           Commander          Time  Score\n",
        "Cochice        Jason  2012, 02, 08      4\n",
        "Pima           Molly  2012, 02, 08     24\n",
        "Santa Cruz      Tina  2012, 02, 08     31\n",
        "Maricopa        Jake  2012, 02, 08      2\n",
        "Yuma             Amy  2012, 02, 08      3"
       ]
      }
     ],
     "prompt_number": 27
    }
   ],
   "metadata": {}
  }
 ]
}