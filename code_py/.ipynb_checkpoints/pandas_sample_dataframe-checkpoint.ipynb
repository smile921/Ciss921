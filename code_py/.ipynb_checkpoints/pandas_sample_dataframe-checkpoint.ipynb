{
 "metadata": {
  "name": "",
  "signature": "sha256:0cf1f78b6ba6bfde5f16bbcf0ddcbc279f59d4df482c314f9160298ce0b4e6f4"
 },
 "nbformat": 3,
 "nbformat_minor": 0,
 "worksheets": [
  {
   "cells": [
    {
     "cell_type": "markdown",
     "metadata": {},
     "source": [
      "# Sample Rows Of A Dataframe In Pandas\n",
      "\n",
      "- **Author:** [Chris Albon](http://www.chrisalbon.com/), [@ChrisAlbon](https://twitter.com/chrisalbon)\n",
      "- **Date:** -\n",
      "- **Repo:** [Python 3 code snippets for data science](https://github.com/chrisalbon/code_py)\n",
      "- **Note:**"
     ]
    },
    {
     "cell_type": "markdown",
     "metadata": {},
     "source": [
      "### Import required modules"
     ]
    },
    {
     "cell_type": "code",
     "collapsed": false,
     "input": [
      "import pandas as pd\n",
      "import numpy as np"
     ],
     "language": "python",
     "metadata": {},
     "outputs": [],
     "prompt_number": 31
    },
    {
     "cell_type": "markdown",
     "metadata": {},
     "source": [
      "### Create a dataframe of test scores"
     ]
    },
    {
     "cell_type": "code",
     "collapsed": false,
     "input": [
      "df = pd.DataFrame(np.random.randn(100, 4), columns=['test1_score', 'test2_score' ,'test3_score' ,'test4_score'])"
     ],
     "language": "python",
     "metadata": {},
     "outputs": [],
     "prompt_number": 32
    },
    {
     "cell_type": "markdown",
     "metadata": {},
     "source": [
      "### View the top five rows"
     ]
    },
    {
     "cell_type": "code",
     "collapsed": false,
     "input": [
      "df.head()"
     ],
     "language": "python",
     "metadata": {},
     "outputs": [
      {
       "html": [
        "<div style=\"max-height:1000px;max-width:1500px;overflow:auto;\">\n",
        "<table border=\"1\" class=\"dataframe\">\n",
        "  <thead>\n",
        "    <tr style=\"text-align: right;\">\n",
        "      <th></th>\n",
        "      <th>test1_score</th>\n",
        "      <th>test2_score</th>\n",
        "      <th>test3_score</th>\n",
        "      <th>test4_score</th>\n",
        "    </tr>\n",
        "  </thead>\n",
        "  <tbody>\n",
        "    <tr>\n",
        "      <th>0</th>\n",
        "      <td>-0.562832</td>\n",
        "      <td> 0.285719</td>\n",
        "      <td> 0.937775</td>\n",
        "      <td>-1.638723</td>\n",
        "    </tr>\n",
        "    <tr>\n",
        "      <th>1</th>\n",
        "      <td> 0.298900</td>\n",
        "      <td>-1.215272</td>\n",
        "      <td> 1.461132</td>\n",
        "      <td> 0.866500</td>\n",
        "    </tr>\n",
        "    <tr>\n",
        "      <th>2</th>\n",
        "      <td>-1.049831</td>\n",
        "      <td> 1.767881</td>\n",
        "      <td> 0.221468</td>\n",
        "      <td>-1.165039</td>\n",
        "    </tr>\n",
        "    <tr>\n",
        "      <th>3</th>\n",
        "      <td> 1.360927</td>\n",
        "      <td> 0.846616</td>\n",
        "      <td>-1.559061</td>\n",
        "      <td>-1.340281</td>\n",
        "    </tr>\n",
        "    <tr>\n",
        "      <th>4</th>\n",
        "      <td>-0.022707</td>\n",
        "      <td> 0.946102</td>\n",
        "      <td> 0.232905</td>\n",
        "      <td> 0.615826</td>\n",
        "    </tr>\n",
        "  </tbody>\n",
        "</table>\n",
        "<p>5 rows \u00d7 4 columns</p>\n",
        "</div>"
       ],
       "metadata": {},
       "output_type": "pyout",
       "prompt_number": 33,
       "text": [
        "   test1_score  test2_score  test3_score  test4_score\n",
        "0    -0.562832     0.285719     0.937775    -1.638723\n",
        "1     0.298900    -1.215272     1.461132     0.866500\n",
        "2    -1.049831     1.767881     0.221468    -1.165039\n",
        "3     1.360927     0.846616    -1.559061    -1.340281\n",
        "4    -0.022707     0.946102     0.232905     0.615826\n",
        "\n",
        "[5 rows x 4 columns]"
       ]
      }
     ],
     "prompt_number": 33
    },
    {
     "cell_type": "markdown",
     "metadata": {},
     "source": [
      "### Length of the dataframe"
     ]
    },
    {
     "cell_type": "code",
     "collapsed": false,
     "input": [
      "print(len(df))"
     ],
     "language": "python",
     "metadata": {},
     "outputs": [
      {
       "output_type": "stream",
       "stream": "stdout",
       "text": [
        "100\n"
       ]
      }
     ],
     "prompt_number": 34
    },
    {
     "cell_type": "markdown",
     "metadata": {},
     "source": [
      "### Randomly choose 10 rows"
     ]
    },
    {
     "cell_type": "code",
     "collapsed": false,
     "input": [
      "rows = np.random.choice(df.index.values, 10)"
     ],
     "language": "python",
     "metadata": {},
     "outputs": [],
     "prompt_number": 35
    },
    {
     "cell_type": "markdown",
     "metadata": {},
     "source": [
      "### Convert it into a dataframe"
     ]
    },
    {
     "cell_type": "code",
     "collapsed": false,
     "input": [
      "sampled_df = df.ix[rows]"
     ],
     "language": "python",
     "metadata": {},
     "outputs": [],
     "prompt_number": 36
    },
    {
     "cell_type": "markdown",
     "metadata": {},
     "source": [
      "### View the dataframe"
     ]
    },
    {
     "cell_type": "code",
     "collapsed": false,
     "input": [
      "sampled_df"
     ],
     "language": "python",
     "metadata": {},
     "outputs": [
      {
       "html": [
        "<div style=\"max-height:1000px;max-width:1500px;overflow:auto;\">\n",
        "<table border=\"1\" class=\"dataframe\">\n",
        "  <thead>\n",
        "    <tr style=\"text-align: right;\">\n",
        "      <th></th>\n",
        "      <th>test1_score</th>\n",
        "      <th>test2_score</th>\n",
        "      <th>test3_score</th>\n",
        "      <th>test4_score</th>\n",
        "    </tr>\n",
        "  </thead>\n",
        "  <tbody>\n",
        "    <tr>\n",
        "      <th>61</th>\n",
        "      <td> 0.350195</td>\n",
        "      <td>-1.199999</td>\n",
        "      <td>-0.277451</td>\n",
        "      <td>-1.286770</td>\n",
        "    </tr>\n",
        "    <tr>\n",
        "      <th>46</th>\n",
        "      <td>-0.310364</td>\n",
        "      <td> 1.086771</td>\n",
        "      <td>-0.521381</td>\n",
        "      <td> 0.607132</td>\n",
        "    </tr>\n",
        "    <tr>\n",
        "      <th>78</th>\n",
        "      <td>-0.215014</td>\n",
        "      <td> 0.464960</td>\n",
        "      <td>-0.369023</td>\n",
        "      <td>-2.332646</td>\n",
        "    </tr>\n",
        "    <tr>\n",
        "      <th>9 </th>\n",
        "      <td>-1.281638</td>\n",
        "      <td>-0.268482</td>\n",
        "      <td>-0.103900</td>\n",
        "      <td> 1.559594</td>\n",
        "    </tr>\n",
        "    <tr>\n",
        "      <th>78</th>\n",
        "      <td>-0.215014</td>\n",
        "      <td> 0.464960</td>\n",
        "      <td>-0.369023</td>\n",
        "      <td>-2.332646</td>\n",
        "    </tr>\n",
        "    <tr>\n",
        "      <th>48</th>\n",
        "      <td> 0.239393</td>\n",
        "      <td>-0.090481</td>\n",
        "      <td> 2.453789</td>\n",
        "      <td>-0.126449</td>\n",
        "    </tr>\n",
        "    <tr>\n",
        "      <th>68</th>\n",
        "      <td>-1.078161</td>\n",
        "      <td>-0.712167</td>\n",
        "      <td> 0.303397</td>\n",
        "      <td> 0.444029</td>\n",
        "    </tr>\n",
        "    <tr>\n",
        "      <th>68</th>\n",
        "      <td>-1.078161</td>\n",
        "      <td>-0.712167</td>\n",
        "      <td> 0.303397</td>\n",
        "      <td> 0.444029</td>\n",
        "    </tr>\n",
        "    <tr>\n",
        "      <th>51</th>\n",
        "      <td> 0.087971</td>\n",
        "      <td> 0.397842</td>\n",
        "      <td>-0.086190</td>\n",
        "      <td>-0.903375</td>\n",
        "    </tr>\n",
        "    <tr>\n",
        "      <th>80</th>\n",
        "      <td>-0.875859</td>\n",
        "      <td>-0.873104</td>\n",
        "      <td> 2.316806</td>\n",
        "      <td> 0.518988</td>\n",
        "    </tr>\n",
        "  </tbody>\n",
        "</table>\n",
        "<p>10 rows \u00d7 4 columns</p>\n",
        "</div>"
       ],
       "metadata": {},
       "output_type": "pyout",
       "prompt_number": 37,
       "text": [
        "    test1_score  test2_score  test3_score  test4_score\n",
        "61     0.350195    -1.199999    -0.277451    -1.286770\n",
        "46    -0.310364     1.086771    -0.521381     0.607132\n",
        "78    -0.215014     0.464960    -0.369023    -2.332646\n",
        "9     -1.281638    -0.268482    -0.103900     1.559594\n",
        "78    -0.215014     0.464960    -0.369023    -2.332646\n",
        "48     0.239393    -0.090481     2.453789    -0.126449\n",
        "68    -1.078161    -0.712167     0.303397     0.444029\n",
        "68    -1.078161    -0.712167     0.303397     0.444029\n",
        "51     0.087971     0.397842    -0.086190    -0.903375\n",
        "80    -0.875859    -0.873104     2.316806     0.518988\n",
        "\n",
        "[10 rows x 4 columns]"
       ]
      }
     ],
     "prompt_number": 37
    }
   ],
   "metadata": {}
  }
 ]
}