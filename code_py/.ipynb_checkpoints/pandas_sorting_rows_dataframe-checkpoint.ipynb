{
 "metadata": {
  "name": "",
  "signature": "sha256:071ef819ee4ee2f5f208b385c7b0847ca2d00580f592f29da459df147b63cb95"
 },
 "nbformat": 3,
 "nbformat_minor": 0,
 "worksheets": [
  {
   "cells": [
    {
     "cell_type": "markdown",
     "metadata": {},
     "source": [
      "# Sorting Rows Of pandas Dataframes\n",
      "\n",
      "- **Author:** [Chris Albon](http://www.chrisalbon.com/), [@ChrisAlbon](https://twitter.com/chrisalbon)\n",
      "- **Date:** -\n",
      "- **Repo:** [Python 3 code snippets for data science](https://github.com/chrisalbon/code_py)\n",
      "- **Note:**"
     ]
    },
    {
     "cell_type": "markdown",
     "metadata": {},
     "source": [
      "### import modules"
     ]
    },
    {
     "cell_type": "code",
     "collapsed": false,
     "input": [
      "import pandas as pd"
     ],
     "language": "python",
     "metadata": {},
     "outputs": [],
     "prompt_number": 14
    },
    {
     "cell_type": "markdown",
     "metadata": {},
     "source": [
      "### Create dataframe"
     ]
    },
    {
     "cell_type": "code",
     "collapsed": false,
     "input": [
      "data = {'name': ['Jason', 'Molly', 'Tina', 'Jake', 'Amy'], \n",
      "        'year': [2012, 2012, 2013, 2014, 2014], \n",
      "        'reports': [4, 24, 31, 2, 3],\n",
      "        'coverage': [25, 94, 57, 62, 70]}\n",
      "df = pd.DataFrame(data, index = ['Cochice', 'Pima', 'Santa Cruz', 'Maricopa', 'Yuma'])\n",
      "df"
     ],
     "language": "python",
     "metadata": {},
     "outputs": [
      {
       "html": [
        "<div style=\"max-height:1000px;max-width:1500px;overflow:auto;\">\n",
        "<table border=\"1\" class=\"dataframe\">\n",
        "  <thead>\n",
        "    <tr style=\"text-align: right;\">\n",
        "      <th></th>\n",
        "      <th>coverage</th>\n",
        "      <th>name</th>\n",
        "      <th>reports</th>\n",
        "      <th>year</th>\n",
        "    </tr>\n",
        "  </thead>\n",
        "  <tbody>\n",
        "    <tr>\n",
        "      <th>Cochice</th>\n",
        "      <td> 25</td>\n",
        "      <td> Jason</td>\n",
        "      <td>  4</td>\n",
        "      <td> 2012</td>\n",
        "    </tr>\n",
        "    <tr>\n",
        "      <th>Pima</th>\n",
        "      <td> 94</td>\n",
        "      <td> Molly</td>\n",
        "      <td> 24</td>\n",
        "      <td> 2012</td>\n",
        "    </tr>\n",
        "    <tr>\n",
        "      <th>Santa Cruz</th>\n",
        "      <td> 57</td>\n",
        "      <td>  Tina</td>\n",
        "      <td> 31</td>\n",
        "      <td> 2013</td>\n",
        "    </tr>\n",
        "    <tr>\n",
        "      <th>Maricopa</th>\n",
        "      <td> 62</td>\n",
        "      <td>  Jake</td>\n",
        "      <td>  2</td>\n",
        "      <td> 2014</td>\n",
        "    </tr>\n",
        "    <tr>\n",
        "      <th>Yuma</th>\n",
        "      <td> 70</td>\n",
        "      <td>   Amy</td>\n",
        "      <td>  3</td>\n",
        "      <td> 2014</td>\n",
        "    </tr>\n",
        "  </tbody>\n",
        "</table>\n",
        "<p>5 rows \u00d7 4 columns</p>\n",
        "</div>"
       ],
       "metadata": {},
       "output_type": "pyout",
       "prompt_number": 3,
       "text": [
        "            coverage   name  reports  year\n",
        "Cochice           25  Jason        4  2012\n",
        "Pima              94  Molly       24  2012\n",
        "Santa Cruz        57   Tina       31  2013\n",
        "Maricopa          62   Jake        2  2014\n",
        "Yuma              70    Amy        3  2014\n",
        "\n",
        "[5 rows x 4 columns]"
       ]
      }
     ],
     "prompt_number": 3
    },
    {
     "cell_type": "markdown",
     "metadata": {},
     "source": [
      "### Sort the dataframe's rows by reports, in descending order"
     ]
    },
    {
     "cell_type": "code",
     "collapsed": false,
     "input": [
      "df.sort_index(by='reports', ascending=0)"
     ],
     "language": "python",
     "metadata": {},
     "outputs": [
      {
       "html": [
        "<div style=\"max-height:1000px;max-width:1500px;overflow:auto;\">\n",
        "<table border=\"1\" class=\"dataframe\">\n",
        "  <thead>\n",
        "    <tr style=\"text-align: right;\">\n",
        "      <th></th>\n",
        "      <th>coverage</th>\n",
        "      <th>name</th>\n",
        "      <th>reports</th>\n",
        "      <th>year</th>\n",
        "    </tr>\n",
        "  </thead>\n",
        "  <tbody>\n",
        "    <tr>\n",
        "      <th>Santa Cruz</th>\n",
        "      <td> 57</td>\n",
        "      <td>  Tina</td>\n",
        "      <td> 31</td>\n",
        "      <td> 2013</td>\n",
        "    </tr>\n",
        "    <tr>\n",
        "      <th>Pima</th>\n",
        "      <td> 94</td>\n",
        "      <td> Molly</td>\n",
        "      <td> 24</td>\n",
        "      <td> 2012</td>\n",
        "    </tr>\n",
        "    <tr>\n",
        "      <th>Cochice</th>\n",
        "      <td> 25</td>\n",
        "      <td> Jason</td>\n",
        "      <td>  4</td>\n",
        "      <td> 2012</td>\n",
        "    </tr>\n",
        "    <tr>\n",
        "      <th>Yuma</th>\n",
        "      <td> 70</td>\n",
        "      <td>   Amy</td>\n",
        "      <td>  3</td>\n",
        "      <td> 2014</td>\n",
        "    </tr>\n",
        "    <tr>\n",
        "      <th>Maricopa</th>\n",
        "      <td> 62</td>\n",
        "      <td>  Jake</td>\n",
        "      <td>  2</td>\n",
        "      <td> 2014</td>\n",
        "    </tr>\n",
        "  </tbody>\n",
        "</table>\n",
        "<p>5 rows \u00d7 4 columns</p>\n",
        "</div>"
       ],
       "metadata": {},
       "output_type": "pyout",
       "prompt_number": 15,
       "text": [
        "            coverage   name  reports  year\n",
        "Santa Cruz        57   Tina       31  2013\n",
        "Pima              94  Molly       24  2012\n",
        "Cochice           25  Jason        4  2012\n",
        "Yuma              70    Amy        3  2014\n",
        "Maricopa          62   Jake        2  2014\n",
        "\n",
        "[5 rows x 4 columns]"
       ]
      }
     ],
     "prompt_number": 15
    },
    {
     "cell_type": "markdown",
     "metadata": {},
     "source": [
      "### Sort the dataframe's rows by coverage and then by reports, in ascending order"
     ]
    },
    {
     "cell_type": "code",
     "collapsed": false,
     "input": [
      "df.sort_index(by=['coverage', 'reports'])"
     ],
     "language": "python",
     "metadata": {},
     "outputs": [
      {
       "html": [
        "<div style=\"max-height:1000px;max-width:1500px;overflow:auto;\">\n",
        "<table border=\"1\" class=\"dataframe\">\n",
        "  <thead>\n",
        "    <tr style=\"text-align: right;\">\n",
        "      <th></th>\n",
        "      <th>coverage</th>\n",
        "      <th>name</th>\n",
        "      <th>reports</th>\n",
        "      <th>year</th>\n",
        "    </tr>\n",
        "  </thead>\n",
        "  <tbody>\n",
        "    <tr>\n",
        "      <th>Cochice</th>\n",
        "      <td> 25</td>\n",
        "      <td> Jason</td>\n",
        "      <td>  4</td>\n",
        "      <td> 2012</td>\n",
        "    </tr>\n",
        "    <tr>\n",
        "      <th>Santa Cruz</th>\n",
        "      <td> 57</td>\n",
        "      <td>  Tina</td>\n",
        "      <td> 31</td>\n",
        "      <td> 2013</td>\n",
        "    </tr>\n",
        "    <tr>\n",
        "      <th>Maricopa</th>\n",
        "      <td> 62</td>\n",
        "      <td>  Jake</td>\n",
        "      <td>  2</td>\n",
        "      <td> 2014</td>\n",
        "    </tr>\n",
        "    <tr>\n",
        "      <th>Yuma</th>\n",
        "      <td> 70</td>\n",
        "      <td>   Amy</td>\n",
        "      <td>  3</td>\n",
        "      <td> 2014</td>\n",
        "    </tr>\n",
        "    <tr>\n",
        "      <th>Pima</th>\n",
        "      <td> 94</td>\n",
        "      <td> Molly</td>\n",
        "      <td> 24</td>\n",
        "      <td> 2012</td>\n",
        "    </tr>\n",
        "  </tbody>\n",
        "</table>\n",
        "<p>5 rows \u00d7 4 columns</p>\n",
        "</div>"
       ],
       "metadata": {},
       "output_type": "pyout",
       "prompt_number": 10,
       "text": [
        "            coverage   name  reports  year\n",
        "Cochice           25  Jason        4  2012\n",
        "Santa Cruz        57   Tina       31  2013\n",
        "Maricopa          62   Jake        2  2014\n",
        "Yuma              70    Amy        3  2014\n",
        "Pima              94  Molly       24  2012\n",
        "\n",
        "[5 rows x 4 columns]"
       ]
      }
     ],
     "prompt_number": 10
    },
    {
     "cell_type": "code",
     "collapsed": false,
     "input": [],
     "language": "python",
     "metadata": {},
     "outputs": []
    }
   ],
   "metadata": {}
  }
 ]
}