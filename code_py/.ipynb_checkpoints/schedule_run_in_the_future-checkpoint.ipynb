{
 "metadata": {
  "name": "",
  "signature": "sha256:415ba1ade593b95c0785b688dd152d12c91a38ba9cb95048df5efa62e2eff440"
 },
 "nbformat": 3,
 "nbformat_minor": 0,
 "worksheets": [
  {
   "cells": [
    {
     "cell_type": "markdown",
     "metadata": {},
     "source": [
      "# Scheduling Jobs In The Future\n",
      "\n",
      "- **Author:** [Chris Albon](http://www.chrisalbon.com/), [@ChrisAlbon](https://twitter.com/chrisalbon)\n",
      "- **Date:** Jan 22, 2014\n",
      "- **Repo:** [Python 3 code snippets for data science](https://github.com/chrisalbon/code_py)\n",
      "- **Note:** From: http://pymotw.com/2/sched/"
     ]
    },
    {
     "cell_type": "code",
     "collapsed": false,
     "input": [
      "# Import required modules\n",
      "import sched\n",
      "import time\n",
      "\n",
      "# setup the scheduler with our time settings\n",
      "s = sched.scheduler(time.time, time.sleep)"
     ],
     "language": "python",
     "metadata": {},
     "outputs": [],
     "prompt_number": 19
    },
    {
     "cell_type": "code",
     "collapsed": false,
     "input": [
      "# Create a function we want to run in the future.\n",
      "def print_time():\n",
      "    print(\"Executive Order 66\")"
     ],
     "language": "python",
     "metadata": {},
     "outputs": [],
     "prompt_number": 20
    },
    {
     "cell_type": "code",
     "collapsed": false,
     "input": [
      "# Create a function for the delay\n",
      "def print_some_times():\n",
      "    # Create a scheduled job that will run\n",
      "    # the function called 'print_time'\n",
      "    # after 10 seconds, and with priority 1.\n",
      "    s.enter(10, 1, print_time)\n",
      "    \n",
      "    # Run the scheduler\n",
      "    s.run()"
     ],
     "language": "python",
     "metadata": {},
     "outputs": [],
     "prompt_number": 21
    },
    {
     "cell_type": "code",
     "collapsed": false,
     "input": [
      "# Run the function for the delay\n",
      "print_some_times()"
     ],
     "language": "python",
     "metadata": {},
     "outputs": []
    },
    {
     "cell_type": "code",
     "collapsed": false,
     "input": [],
     "language": "python",
     "metadata": {},
     "outputs": []
    }
   ],
   "metadata": {}
  }
 ]
}