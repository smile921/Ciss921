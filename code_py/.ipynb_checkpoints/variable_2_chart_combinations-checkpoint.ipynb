{
 "metadata": {
  "name": "",
  "signature": "sha256:c01b700c84042de9e4e485d4ba1a8b2b9d94da465b00a8c03e23fba5671f5457"
 },
 "nbformat": 3,
 "nbformat_minor": 0,
 "worksheets": [
  {
   "cells": [
    {
     "cell_type": "code",
     "collapsed": false,
     "input": [
      "import itertools\n",
      "import pandas as pd"
     ],
     "language": "python",
     "metadata": {},
     "outputs": [],
     "prompt_number": 5
    },
    {
     "cell_type": "code",
     "collapsed": false,
     "input": [
      "stuff = [\"date\", \"int\", \"bool\", \"float\", \"category\", \"text\", \"id\", \"geo\", \"proportion\", \"contact\"]\n",
      "\n",
      "combinations = []\n",
      "\n",
      "for L in range(0, len(stuff)+1):\n",
      "  for subset in itertools.combinations(stuff, L):\n",
      "    if len(subset) < 4:\n",
      "        combinations.append(subset)"
     ],
     "language": "python",
     "metadata": {},
     "outputs": [],
     "prompt_number": 18
    },
    {
     "cell_type": "code",
     "collapsed": false,
     "input": [
      "df = pd.DataFrame(combinations)"
     ],
     "language": "python",
     "metadata": {},
     "outputs": [],
     "prompt_number": 19
    },
    {
     "cell_type": "code",
     "collapsed": false,
     "input": [
      "df.to_csv('var_combinations.csv')"
     ],
     "language": "python",
     "metadata": {},
     "outputs": []
    }
   ],
   "metadata": {}
  }
 ]
}