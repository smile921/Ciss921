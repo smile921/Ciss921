{
 "metadata": {
  "name": "",
  "signature": "sha256:3228696d7209af74c8987a359c5aca247f9b5dd596b9f33915a81987f32077d1"
 },
 "nbformat": 3,
 "nbformat_minor": 0,
 "worksheets": [
  {
   "cells": [
    {
     "cell_type": "markdown",
     "metadata": {},
     "source": [
      "# Kolmogorov Smirnov Test\n",
      "\n",
      "- **Author:** [Chris Albon](http://www.chrisalbon.com/), [@ChrisAlbon](https://twitter.com/chrisalbon)\n",
      "- **Date:** -\n",
      "- **Repo:** [Python 3 code snippets for data science](https://github.com/chrisalbon/code_py)\n",
      "- **Note:**"
     ]
    },
    {
     "cell_type": "code",
     "collapsed": false,
     "input": [
      "# Import required packages\n",
      "from scipy import stats\n",
      "import scipy as sp\n",
      "import numpy as np\n",
      "import math\n",
      "import matplotlib.pyplot as plt\n",
      "%matplotlib inline"
     ],
     "language": "python",
     "metadata": {},
     "outputs": [],
     "prompt_number": 15
    },
    {
     "cell_type": "code",
     "collapsed": false,
     "input": [
      "# Create x, which is uniformly distributed\n",
      "x = np.random.uniform(size=1000)\n",
      "\n",
      "# Plot x to double check its distribution\n",
      "plt.hist(x)\n",
      "plt.show()"
     ],
     "language": "python",
     "metadata": {},
     "outputs": [
      {
       "metadata": {},
       "output_type": "display_data",
       "png": "[encoded data removed]",
       "text": [
        "<matplotlib.figure.Figure at 0x107b94a90>"
       ]
      }
     ],
     "prompt_number": 16
    },
    {
     "cell_type": "code",
     "collapsed": false,
     "input": [
      "# Create y, which is NOT uniformly distributed\n",
      "y = x**4\n",
      "\n",
      "# Plot y to double check its distribution\n",
      "plt.hist(y)\n",
      "plt.show()"
     ],
     "language": "python",
     "metadata": {},
     "outputs": [
      {
       "metadata": {},
       "output_type": "display_data",
       "png": "[encoded data removed]",
       "text": [
        "<matplotlib.figure.Figure at 0x107dd0450>"
       ]
      }
     ],
     "prompt_number": 17
    },
    {
     "cell_type": "code",
     "collapsed": false,
     "input": [
      "# Run kstest on x. We want the second returned value to be \n",
      "# not statistically significant, meaning that both come from \n",
      "# the same distribution.\n",
      "stats.kstest(x, 'uniform', args=(min(x),max(x)))"
     ],
     "language": "python",
     "metadata": {},
     "outputs": [
      {
       "metadata": {},
       "output_type": "pyout",
       "prompt_number": 18,
       "text": [
        "(0.043685470092267642, 0.042698030459771275)"
       ]
      }
     ],
     "prompt_number": 18
    },
    {
     "cell_type": "code",
     "collapsed": false,
     "input": [
      "# Run kstest on y. We want the second returned value to be \n",
      "# statistically significant, meaning that likely do not both \n",
      "# come from the same distribution.\n",
      "stats.kstest(y, 'uniform', args=(min(y),max(y)))"
     ],
     "language": "python",
     "metadata": {},
     "outputs": [
      {
       "metadata": {},
       "output_type": "pyout",
       "prompt_number": 19,
       "text": [
        "(0.48969825580402526, 0.0)"
       ]
      }
     ],
     "prompt_number": 19
    }
   ],
   "metadata": {}
  }
 ]
}