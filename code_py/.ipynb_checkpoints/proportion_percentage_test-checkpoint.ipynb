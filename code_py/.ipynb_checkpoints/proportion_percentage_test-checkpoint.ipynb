{
 "metadata": {
  "name": "",
  "signature": "sha256:5e580f7a8413995f29709c00333c02575e8247f09ab902a29076baeb03b53eda"
 },
 "nbformat": 3,
 "nbformat_minor": 0,
 "worksheets": [
  {
   "cells": [
    {
     "cell_type": "markdown",
     "metadata": {},
     "source": [
      "# Test of proportion_percentage()"
     ]
    },
    {
     "cell_type": "markdown",
     "metadata": {},
     "source": [
      "## Set the test data"
     ]
    },
    {
     "cell_type": "code",
     "collapsed": false,
     "input": [
      "percent = [10, 15, 25, 50]\n",
      "proportion = [.10, .15, .25, .50]\n",
      "not_percent = [25, 32, 2245, 235]\n",
      "not_proportion = [.245, .325, 1.25, 5.425]\n",
      "\n",
      "data = {'percent': percent,\n",
      "        'proportion': proportion,\n",
      "        'not_percent': percent,\n",
      "        'not_proportion': not_proportion}"
     ],
     "language": "python",
     "metadata": {},
     "outputs": [],
     "prompt_number": 33
    },
    {
     "cell_type": "markdown",
     "metadata": {},
     "source": [
      "## Create the function"
     ]
    },
    {
     "cell_type": "code",
     "collapsed": false,
     "input": [
      "def proportion_probability(values, key=None, pos=None):\n",
      "    prob = 0\n",
      "\n",
      "    if sum(values) == 1 or sum(values) == 100:\n",
      "        prob += 0.50\n",
      "    else:\n",
      "        return 0\n",
      "\n",
      "    return prob"
     ],
     "language": "python",
     "metadata": {},
     "outputs": [],
     "prompt_number": 34
    },
    {
     "cell_type": "markdown",
     "metadata": {},
     "source": [
      "## See the results"
     ]
    },
    {
     "cell_type": "code",
     "collapsed": false,
     "input": [
      "# Should return 0.5\n",
      "print(proportion_probability(percent, 'percent'))\n",
      "\n",
      "# Should return 0.5\n",
      "print(proportion_probability(proportion, 'proportion'))\n",
      "\n",
      "# Should return 0\n",
      "print(proportion_probability(not_percent, 'not_percent'))\n",
      "\n",
      "# Should return 0\n",
      "print(proportion_probability(not_proportion, 'not_proportion'))"
     ],
     "language": "python",
     "metadata": {},
     "outputs": [
      {
       "output_type": "stream",
       "stream": "stdout",
       "text": [
        "0.5\n",
        "0.5\n",
        "0\n",
        "0\n"
       ]
      }
     ],
     "prompt_number": 36
    }
   ],
   "metadata": {}
  }
 ]
}