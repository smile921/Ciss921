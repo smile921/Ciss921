{
 "metadata": {
  "name": "",
  "signature": "sha256:0b13dfe9b27fc566db40aa1b3c9da6f07a69453573a5a55ba3f47b8be60cc504"
 },
 "nbformat": 3,
 "nbformat_minor": 0,
 "worksheets": [
  {
   "cells": [
    {
     "cell_type": "markdown",
     "metadata": {},
     "source": [
      "# Test Script\n",
      "\n",
      "- **Author:** [Chris Albon](http://www.chrisalbon.com/), [@ChrisAlbon](https://twitter.com/chrisalbon)\n",
      "- **Date:** -\n",
      "- **Repo:** [Python 3 code snippets for data science](https://github.com/chrisalbon/code_py)\n",
      "- **Note:**\n",
      "\n",
      "Checks the right environment is being used and one of the data science modules is installed"
     ]
    },
    {
     "cell_type": "markdown",
     "metadata": {},
     "source": [
      "### Import the modules"
     ]
    },
    {
     "cell_type": "code",
     "collapsed": false,
     "input": [
      "import sys\n",
      "import IPython"
     ],
     "language": "python",
     "metadata": {},
     "outputs": [],
     "prompt_number": 9
    },
    {
     "cell_type": "markdown",
     "metadata": {},
     "source": [
      "### Print the path to the Python environment."
     ]
    },
    {
     "cell_type": "code",
     "collapsed": false,
     "input": [
      "print(sys.executable)\n",
      "print(sys.version)"
     ],
     "language": "python",
     "metadata": {},
     "outputs": [
      {
       "output_type": "stream",
       "stream": "stdout",
       "text": [
        "/Users/chrisralbon/anaconda/envs/py3k/bin/python\n",
        "3.3.5 |Anaconda 2.1.0 (x86_64)| (default, Sep  2 2014, 13:57:31) \n",
        "[GCC 4.2.1 (Apple Inc. build 5577)]\n"
       ]
      }
     ],
     "prompt_number": 10
    },
    {
     "cell_type": "markdown",
     "metadata": {},
     "source": [
      "### Check which version of iPython is being used."
     ]
    },
    {
     "cell_type": "code",
     "collapsed": false,
     "input": [
      "IPython.__version__"
     ],
     "language": "python",
     "metadata": {},
     "outputs": [
      {
       "metadata": {},
       "output_type": "pyout",
       "prompt_number": 11,
       "text": [
        "'2.2.0'"
       ]
      }
     ],
     "prompt_number": 11
    },
    {
     "cell_type": "markdown",
     "metadata": {},
     "source": [
      "### Run a quick test to see if numpy module is installed."
     ]
    },
    {
     "cell_type": "code",
     "collapsed": false,
     "input": [
      "import numpy as np\n",
      "arr = np.arange(100)\n",
      "arr"
     ],
     "language": "python",
     "metadata": {},
     "outputs": [
      {
       "metadata": {},
       "output_type": "pyout",
       "prompt_number": 12,
       "text": [
        "array([ 0,  1,  2,  3,  4,  5,  6,  7,  8,  9, 10, 11, 12, 13, 14, 15, 16,\n",
        "       17, 18, 19, 20, 21, 22, 23, 24, 25, 26, 27, 28, 29, 30, 31, 32, 33,\n",
        "       34, 35, 36, 37, 38, 39, 40, 41, 42, 43, 44, 45, 46, 47, 48, 49, 50,\n",
        "       51, 52, 53, 54, 55, 56, 57, 58, 59, 60, 61, 62, 63, 64, 65, 66, 67,\n",
        "       68, 69, 70, 71, 72, 73, 74, 75, 76, 77, 78, 79, 80, 81, 82, 83, 84,\n",
        "       85, 86, 87, 88, 89, 90, 91, 92, 93, 94, 95, 96, 97, 98, 99])"
       ]
      }
     ],
     "prompt_number": 12
    },
    {
     "cell_type": "markdown",
     "metadata": {},
     "source": [
      "### Run a quick test to see if pandas module is installed."
     ]
    },
    {
     "cell_type": "code",
     "collapsed": false,
     "input": [
      "import pandas as pd"
     ],
     "language": "python",
     "metadata": {},
     "outputs": [],
     "prompt_number": 13
    },
    {
     "cell_type": "code",
     "collapsed": false,
     "input": [
      "df = pd.DataFrame(np.random.randn(8, 3), \n",
      "                  index=pd.date_range('1/1/2000', periods=8), \n",
      "                  columns=['A', 'B', 'C'])\n",
      "df"
     ],
     "language": "python",
     "metadata": {},
     "outputs": [
      {
       "html": [
        "<div style=\"max-height:1000px;max-width:1500px;overflow:auto;\">\n",
        "<table border=\"1\" class=\"dataframe\">\n",
        "  <thead>\n",
        "    <tr style=\"text-align: right;\">\n",
        "      <th></th>\n",
        "      <th>A</th>\n",
        "      <th>B</th>\n",
        "      <th>C</th>\n",
        "    </tr>\n",
        "  </thead>\n",
        "  <tbody>\n",
        "    <tr>\n",
        "      <th>2000-01-01</th>\n",
        "      <td> 0.941488</td>\n",
        "      <td> 1.325088</td>\n",
        "      <td>-2.251415</td>\n",
        "    </tr>\n",
        "    <tr>\n",
        "      <th>2000-01-02</th>\n",
        "      <td>-0.031463</td>\n",
        "      <td>-0.342263</td>\n",
        "      <td>-0.255721</td>\n",
        "    </tr>\n",
        "    <tr>\n",
        "      <th>2000-01-03</th>\n",
        "      <td> 0.180192</td>\n",
        "      <td>-0.236305</td>\n",
        "      <td> 0.135585</td>\n",
        "    </tr>\n",
        "    <tr>\n",
        "      <th>2000-01-04</th>\n",
        "      <td>-2.088548</td>\n",
        "      <td> 1.204635</td>\n",
        "      <td> 0.916760</td>\n",
        "    </tr>\n",
        "    <tr>\n",
        "      <th>2000-01-05</th>\n",
        "      <td>-0.461350</td>\n",
        "      <td>-1.350354</td>\n",
        "      <td>-0.261618</td>\n",
        "    </tr>\n",
        "    <tr>\n",
        "      <th>2000-01-06</th>\n",
        "      <td>-0.130376</td>\n",
        "      <td> 1.732998</td>\n",
        "      <td> 0.301640</td>\n",
        "    </tr>\n",
        "    <tr>\n",
        "      <th>2000-01-07</th>\n",
        "      <td>-0.781489</td>\n",
        "      <td> 0.738901</td>\n",
        "      <td>-0.289822</td>\n",
        "    </tr>\n",
        "    <tr>\n",
        "      <th>2000-01-08</th>\n",
        "      <td> 0.295216</td>\n",
        "      <td>-0.610543</td>\n",
        "      <td>-1.941927</td>\n",
        "    </tr>\n",
        "  </tbody>\n",
        "</table>\n",
        "</div>"
       ],
       "metadata": {},
       "output_type": "pyout",
       "prompt_number": 14,
       "text": [
        "                   A         B         C\n",
        "2000-01-01  0.941488  1.325088 -2.251415\n",
        "2000-01-02 -0.031463 -0.342263 -0.255721\n",
        "2000-01-03  0.180192 -0.236305  0.135585\n",
        "2000-01-04 -2.088548  1.204635  0.916760\n",
        "2000-01-05 -0.461350 -1.350354 -0.261618\n",
        "2000-01-06 -0.130376  1.732998  0.301640\n",
        "2000-01-07 -0.781489  0.738901 -0.289822\n",
        "2000-01-08  0.295216 -0.610543 -1.941927"
       ]
      }
     ],
     "prompt_number": 14
    },
    {
     "cell_type": "markdown",
     "metadata": {},
     "source": [
      "### View the first 4 rows."
     ]
    },
    {
     "cell_type": "code",
     "collapsed": false,
     "input": [
      "df[0:4]"
     ],
     "language": "python",
     "metadata": {},
     "outputs": [
      {
       "html": [
        "<div style=\"max-height:1000px;max-width:1500px;overflow:auto;\">\n",
        "<table border=\"1\" class=\"dataframe\">\n",
        "  <thead>\n",
        "    <tr style=\"text-align: right;\">\n",
        "      <th></th>\n",
        "      <th>A</th>\n",
        "      <th>B</th>\n",
        "      <th>C</th>\n",
        "    </tr>\n",
        "  </thead>\n",
        "  <tbody>\n",
        "    <tr>\n",
        "      <th>2000-01-01</th>\n",
        "      <td> 0.941488</td>\n",
        "      <td> 1.325088</td>\n",
        "      <td>-2.251415</td>\n",
        "    </tr>\n",
        "    <tr>\n",
        "      <th>2000-01-02</th>\n",
        "      <td>-0.031463</td>\n",
        "      <td>-0.342263</td>\n",
        "      <td>-0.255721</td>\n",
        "    </tr>\n",
        "    <tr>\n",
        "      <th>2000-01-03</th>\n",
        "      <td> 0.180192</td>\n",
        "      <td>-0.236305</td>\n",
        "      <td> 0.135585</td>\n",
        "    </tr>\n",
        "    <tr>\n",
        "      <th>2000-01-04</th>\n",
        "      <td>-2.088548</td>\n",
        "      <td> 1.204635</td>\n",
        "      <td> 0.916760</td>\n",
        "    </tr>\n",
        "  </tbody>\n",
        "</table>\n",
        "</div>"
       ],
       "metadata": {},
       "output_type": "pyout",
       "prompt_number": 15,
       "text": [
        "                   A         B         C\n",
        "2000-01-01  0.941488  1.325088 -2.251415\n",
        "2000-01-02 -0.031463 -0.342263 -0.255721\n",
        "2000-01-03  0.180192 -0.236305  0.135585\n",
        "2000-01-04 -2.088548  1.204635  0.916760"
       ]
      }
     ],
     "prompt_number": 15
    }
   ],
   "metadata": {}
  }
 ]
}