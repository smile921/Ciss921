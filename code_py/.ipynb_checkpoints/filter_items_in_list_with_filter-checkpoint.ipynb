{
 "metadata": {
  "name": "",
  "signature": "sha256:38e180fd4423e1e7fa9ddf4a05a95cbae7c16afb3e5756469180258b77f238af"
 },
 "nbformat": 3,
 "nbformat_minor": 0,
 "worksheets": [
  {
   "cells": [
    {
     "cell_type": "markdown",
     "metadata": {},
     "source": [
      "# Selecting Items In A List With Filters\n",
      "\n",
      "- **Author:** [Chris Albon](http://www.chrisalbon.com/), [@ChrisAlbon](https://twitter.com/chrisalbon)\n",
      "- **Date:** -\n",
      "- **Repo:** [Python 3 code snippets for data science](https://github.com/chrisalbon/code_py)\n",
      "- **Note:** Based on: Learning Python"
     ]
    },
    {
     "cell_type": "markdown",
     "metadata": {},
     "source": [
      "### Create an list of items denoting the number of soldiers in each regiment, view the list"
     ]
    },
    {
     "cell_type": "code",
     "collapsed": false,
     "input": [
      "regimentSize = (5345, 6436, 3453, 2352, 5212, 6232, 2124, 3425, 1200, 1000, 1211); regimentSize"
     ],
     "language": "python",
     "metadata": {},
     "outputs": [
      {
       "metadata": {},
       "output_type": "pyout",
       "prompt_number": 9,
       "text": [
        "(5345, 6436, 3453, 2352, 5212, 6232, 2124, 3425, 1200, 1000, 1211)"
       ]
      }
     ],
     "prompt_number": 9
    },
    {
     "cell_type": "markdown",
     "metadata": {},
     "source": [
      "## One-line Method\n",
      "\n",
      "This line of code does the same thing as the multiline method below, it is just more compact (but also more complicated to understand."
     ]
    },
    {
     "cell_type": "markdown",
     "metadata": {},
     "source": [
      "### Create a list called smallRegiments that filters regimentSize to find all items that fulfill the lambda function (which looks for all items under 2500)."
     ]
    },
    {
     "cell_type": "code",
     "collapsed": false,
     "input": [
      "smallRegiments = list(filter((lambda x: x < 2500), regimentSize)); smallRegiments"
     ],
     "language": "python",
     "metadata": {},
     "outputs": [
      {
       "metadata": {},
       "output_type": "pyout",
       "prompt_number": 28,
       "text": [
        "[2352, 2124, 1200, 1000, 1211]"
       ]
      }
     ],
     "prompt_number": 28
    },
    {
     "cell_type": "markdown",
     "metadata": {},
     "source": [
      "## Multi-line Method\n",
      "\n",
      "The ease with interpreting what is happening, I've broken down the one-line filter method into multiple steps, one per line of code. This appears below."
     ]
    },
    {
     "cell_type": "markdown",
     "metadata": {},
     "source": [
      "### Create a lambda function that looks for things under 2500"
     ]
    },
    {
     "cell_type": "code",
     "collapsed": false,
     "input": [
      "lessThan2500Filter = lambda x: x < 2500"
     ],
     "language": "python",
     "metadata": {},
     "outputs": [],
     "prompt_number": 26
    },
    {
     "cell_type": "markdown",
     "metadata": {},
     "source": [
      "### Filter regimentSize by the lambda function filter"
     ]
    },
    {
     "cell_type": "code",
     "collapsed": false,
     "input": [
      "filteredRegiments = filter(lessThan2500Filter, regimentSize)"
     ],
     "language": "python",
     "metadata": {},
     "outputs": [],
     "prompt_number": 27
    },
    {
     "cell_type": "markdown",
     "metadata": {},
     "source": [
      "### Convert the filter results into a list"
     ]
    },
    {
     "cell_type": "code",
     "collapsed": false,
     "input": [
      "smallRegiments = list(filteredRegiments)"
     ],
     "language": "python",
     "metadata": {},
     "outputs": [
      {
       "metadata": {},
       "output_type": "pyout",
       "prompt_number": 24,
       "text": [
        "[2352, 2124, 1200, 1000, 1211]"
       ]
      }
     ],
     "prompt_number": 24
    },
    {
     "cell_type": "markdown",
     "metadata": {},
     "source": [
      "## For Loop Equilvant\n",
      "\n",
      "This for loop does the same as both methods above, except it uses a for loop."
     ]
    },
    {
     "cell_type": "markdown",
     "metadata": {},
     "source": [
      "### Create a for loop that go through each item of a list and finds items under 2500"
     ]
    },
    {
     "cell_type": "code",
     "collapsed": false,
     "input": [
      "# Create a variable for the results of the loop to be placed\n",
      "smallRegiments_2 = []\n",
      "\n",
      "# for each item in regimentSize,\n",
      "for x in regimentSize:\n",
      "    # look if the item's value is less than 2500\n",
      "    if x < 2500:\n",
      "        # if true, add that item to smallRegiments_2\n",
      "        smallRegiments_2.append(x)"
     ],
     "language": "python",
     "metadata": {},
     "outputs": [],
     "prompt_number": 29
    },
    {
     "cell_type": "markdown",
     "metadata": {},
     "source": [
      "### View the smallRegiment_2 variable"
     ]
    },
    {
     "cell_type": "code",
     "collapsed": false,
     "input": [
      "smallRegiments_2"
     ],
     "language": "python",
     "metadata": {},
     "outputs": [
      {
       "metadata": {},
       "output_type": "pyout",
       "prompt_number": 17,
       "text": [
        "[2352, 2124, 1200, 1000, 1211]"
       ]
      }
     ],
     "prompt_number": 17
    }
   ],
   "metadata": {}
  }
 ]
}