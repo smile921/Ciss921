{
 "metadata": {
  "name": "",
  "signature": "sha256:54b0adb8e8d73f9b7a556690e6a3f6cd5468ff6f58ce26e1e593cb103cb7c9a8"
 },
 "nbformat": 3,
 "nbformat_minor": 0,
 "worksheets": [
  {
   "cells": [
    {
     "cell_type": "markdown",
     "metadata": {},
     "source": [
      "# Group Bar Plot In MatPlotLib\n",
      "\n",
      "- **Author:** [Chris Albon](http://www.chrisalbon.com/), [@ChrisAlbon](https://twitter.com/chrisalbon)\n",
      "- **Date:** -\n",
      "- **Repo:** [Python 3 code snippets for data science](https://github.com/chrisalbon/code_py)\n",
      "- **Note:** Based on: [Sebastian Raschka](http://nbviewer.ipython.org/github/rasbt/matplotlib-gallery/blob/master/ipynb/barplots.ipynb)."
     ]
    },
    {
     "cell_type": "markdown",
     "metadata": {},
     "source": [
      "## Preliminaries"
     ]
    },
    {
     "cell_type": "code",
     "collapsed": false,
     "input": [
      "%matplotlib inline\n",
      "import pandas as pd\n",
      "import matplotlib.pyplot as plt\n",
      "import numpy as np"
     ],
     "language": "python",
     "metadata": {},
     "outputs": [],
     "prompt_number": 1
    },
    {
     "cell_type": "markdown",
     "metadata": {},
     "source": [
      "## Create dataframe"
     ]
    },
    {
     "cell_type": "code",
     "collapsed": false,
     "input": [
      "raw_data = {'first_name': ['Jason', 'Molly', 'Tina', 'Jake', 'Amy'],\n",
      "        'pre_score': [4, 24, 31, 2, 3],\n",
      "        'mid_score': [25, 94, 57, 62, 70],\n",
      "        'post_score': [5, 43, 23, 23, 51]}\n",
      "df = pd.DataFrame(raw_data, columns = ['first_name', 'pre_score', 'mid_score', 'post_score'])\n",
      "df"
     ],
     "language": "python",
     "metadata": {},
     "outputs": [
      {
       "html": [
        "<div style=\"max-height:1000px;max-width:1500px;overflow:auto;\">\n",
        "<table border=\"1\" class=\"dataframe\">\n",
        "  <thead>\n",
        "    <tr style=\"text-align: right;\">\n",
        "      <th></th>\n",
        "      <th>first_name</th>\n",
        "      <th>pre_score</th>\n",
        "      <th>mid_score</th>\n",
        "      <th>post_score</th>\n",
        "    </tr>\n",
        "  </thead>\n",
        "  <tbody>\n",
        "    <tr>\n",
        "      <th>0</th>\n",
        "      <td> Jason</td>\n",
        "      <td>  4</td>\n",
        "      <td> 25</td>\n",
        "      <td>  5</td>\n",
        "    </tr>\n",
        "    <tr>\n",
        "      <th>1</th>\n",
        "      <td> Molly</td>\n",
        "      <td> 24</td>\n",
        "      <td> 94</td>\n",
        "      <td> 43</td>\n",
        "    </tr>\n",
        "    <tr>\n",
        "      <th>2</th>\n",
        "      <td>  Tina</td>\n",
        "      <td> 31</td>\n",
        "      <td> 57</td>\n",
        "      <td> 23</td>\n",
        "    </tr>\n",
        "    <tr>\n",
        "      <th>3</th>\n",
        "      <td>  Jake</td>\n",
        "      <td>  2</td>\n",
        "      <td> 62</td>\n",
        "      <td> 23</td>\n",
        "    </tr>\n",
        "    <tr>\n",
        "      <th>4</th>\n",
        "      <td>   Amy</td>\n",
        "      <td>  3</td>\n",
        "      <td> 70</td>\n",
        "      <td> 51</td>\n",
        "    </tr>\n",
        "  </tbody>\n",
        "</table>\n",
        "</div>"
       ],
       "metadata": {},
       "output_type": "pyout",
       "prompt_number": 2,
       "text": [
        "  first_name  pre_score  mid_score  post_score\n",
        "0      Jason          4         25           5\n",
        "1      Molly         24         94          43\n",
        "2       Tina         31         57          23\n",
        "3       Jake          2         62          23\n",
        "4        Amy          3         70          51"
       ]
      }
     ],
     "prompt_number": 2
    },
    {
     "cell_type": "markdown",
     "metadata": {},
     "source": [
      "## Make plot"
     ]
    },
    {
     "cell_type": "code",
     "collapsed": false,
     "input": [
      "# Setting the positions and width for the bars\n",
      "pos = list(range(len(df['pre_score']))) \n",
      "width = 0.25 \n",
      "    \n",
      "# Plotting the bars\n",
      "fig, ax = plt.subplots(figsize=(10,5))\n",
      "\n",
      "# Create a bar with pre_score data,\n",
      "# in position pos,\n",
      "plt.bar(pos, \n",
      "        #using df['pre_score'] data,\n",
      "        df['pre_score'], \n",
      "        # of width\n",
      "        width, \n",
      "        # with alpha 0.5\n",
      "        alpha=0.5, \n",
      "        # with color\n",
      "        color='#EE3224', \n",
      "        # with label the first value in first_name\n",
      "        label=df['first_name'][0]) \n",
      "\n",
      "# Create a bar with mid_score data,\n",
      "# in position pos + some width buffer,\n",
      "plt.bar([p + width for p in pos], \n",
      "        #using df['mid_score'] data,\n",
      "        df['mid_score'],\n",
      "        # of width\n",
      "        width, \n",
      "        # with alpha 0.5\n",
      "        alpha=0.5, \n",
      "        # with color\n",
      "        color='#F78F1E', \n",
      "        # with label the second value in first_name\n",
      "        label=df['first_name'][1]) \n",
      "\n",
      "# Create a bar with post_score data,\n",
      "# in position pos + some width buffer,\n",
      "plt.bar([p + width*2 for p in pos], \n",
      "        #using df['post_score'] data,\n",
      "        df['post_score'], \n",
      "        # of width\n",
      "        width, \n",
      "        # with alpha 0.5\n",
      "        alpha=0.5, \n",
      "        # with color\n",
      "        color='#FFC222', \n",
      "        # with label the third value in first_name\n",
      "        label=df['first_name'][2]) \n",
      "\n",
      "# Set the y axis label\n",
      "ax.set_ylabel('Score')\n",
      "\n",
      "# Set the chart's title\n",
      "ax.set_title('Test Subject Scores')\n",
      "\n",
      "# Set the position of the x ticks\n",
      "ax.set_xticks([p + 1.5 * width for p in pos])\n",
      "\n",
      "# Set the labels for the x ticks\n",
      "ax.set_xticklabels(df['first_name'])\n",
      "\n",
      "# Setting the x-axis and y-axis limits\n",
      "plt.xlim(min(pos)-width, max(pos)+width*4)\n",
      "plt.ylim([0, max(df['pre_score'] + df['mid_score'] + df['post_score'])] )\n",
      "\n",
      "# Adding the legend and showing the plot\n",
      "plt.legend(['Pre Score', 'Mid Score', 'Post Score'], loc='upper left')\n",
      "plt.grid()\n",
      "plt.show()"
     ],
     "language": "python",
     "metadata": {},
     "outputs": [
      {
       "metadata": {},
       "output_type": "display_data",
       "png": "[encoded data removed]",
       "text": [
        "<matplotlib.figure.Figure at 0x108424f90>"
       ]
      }
     ],
     "prompt_number": 27
    }
   ],
   "metadata": {}
  }
 ]
}