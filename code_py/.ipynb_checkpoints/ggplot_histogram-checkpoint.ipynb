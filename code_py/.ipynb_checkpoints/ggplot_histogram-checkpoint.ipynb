{
 "metadata": {
  "name": "",
  "signature": "sha256:26341a09115e0fa1c5b0130529bc23c460e201af757176264e911be6b9564896"
 },
 "nbformat": 3,
 "nbformat_minor": 0,
 "worksheets": [
  {
   "cells": [
    {
     "cell_type": "markdown",
     "metadata": {},
     "source": [
      "# Draw a histogram plot in ggplot\n",
      "\n",
      "- **Author:** [Chris Albon](http://www.chrisalbon.com/), [@ChrisAlbon](https://twitter.com/chrisalbon)\n",
      "- **Date:** -\n",
      "- **Repo:** [Python 3 code snippets for data science](https://github.com/chrisalbon/code_py)\n",
      "- **Note:**"
     ]
    },
    {
     "cell_type": "code",
     "collapsed": false,
     "input": [
      "# Import required modules\n",
      "from ggplot import *\n",
      "%matplotlib inline\n",
      "import pandas as pd"
     ],
     "language": "python",
     "metadata": {},
     "outputs": [],
     "prompt_number": 34
    },
    {
     "cell_type": "code",
     "collapsed": false,
     "input": [
      "# Create a dataset of Prussian Horsekick data data.\n",
      "# This data presents the number of horsekick deaths per year in each corps\n",
      "df = pd.DataFrame({\n",
      "    \"guard_corps\": [0,2,2,1,0,0,1,1,0,3,0,2,1,0,0,1,0,1,0,1],\n",
      "    \"corps_1\": [0,0,0,2,0,3,0,2,0,0,0,1,1,1,0,2,0,3,1,0],\n",
      "    \"corps_2\": [0,0,0,2,0,2,0,0,1,1,0,0,2,1,1,0,0,2,0,0],\n",
      "    \"corps_3\": [0,0,0,1,1,1,2,0,2,0,0,0,1,0,1,2,1,0,0,0],\n",
      "    \"corps_4\": [0,1,0,1,1,1,1,0,0,0,0,1,0,0,0,0,1,1,0,0],\n",
      "    \"corps_5\": [0,0,0,0,2,1,0,0,1,0,0,1,0,1,1,1,1,1,1,0],\n",
      "    \"corps_6\": [0,0,1,0,2,0,0,1,2,0,1,1,3,1,1,1,0,3,0,0],\n",
      "    \"corps_7\": [1,0,1,0,0,0,1,0,1,1,0,0,2,0,0,2,1,0,2,0],\n",
      "    \"corps_8\": [1,0,0,0,1,0,0,1,0,0,0,0,1,0,0,0,1,1,0,1],\n",
      "    \"corps_9\": [0,0,0,0,0,2,1,1,1,0,2,1,1,0,1,2,0,1,0,0],\n",
      "    \"corps_10\": [0,0,1,1,0,1,0,2,0,2,0,0,0,0,2,1,3,0,1,1],\n",
      "    \"corps_11\": [0,0,0,0,2,4,0,1,3,0,1,1,1,1,2,1,3,1,3,1],\n",
      "    \"corps_14\": [ 1,1,2,1,1,3,0,4,0,1,0,3,2,1,0,2,1,1,0,0],\n",
      "    \"corps_15\": [0,1,0,0,0,0,0,1,0,1,1,0,0,0,2,2,0,0,0,0]\n",
      "})"
     ],
     "language": "python",
     "metadata": {},
     "outputs": [],
     "prompt_number": 35
    },
    {
     "cell_type": "code",
     "collapsed": false,
     "input": [
      "# Create a histogram plot of the number of each value in corps_14\n",
      "ggplot(aes(x='corps_14'), data=df) + \\\n",
      "    geom_histogram(binwidth=1)"
     ],
     "language": "python",
     "metadata": {},
     "outputs": [
      {
       "metadata": {},
       "output_type": "display_data",
       "png": "[encoded data removed]",
       "text": [
        "<matplotlib.figure.Figure at 0x1049cd890>"
       ]
      },
      {
       "metadata": {},
       "output_type": "pyout",
       "prompt_number": 36,
       "text": [
        "<ggplot: (281307829)>"
       ]
      }
     ],
     "prompt_number": 36
    }
   ],
   "metadata": {}
  }
 ]
}