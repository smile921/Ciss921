{
 "metadata": {
  "name": "",
  "signature": "sha256:a1bca7dd4a000f6dd1e33c8ef1f4e9d5ec879ce1f53a743951b270c433c6ba37"
 },
 "nbformat": 3,
 "nbformat_minor": 0,
 "worksheets": [
  {
   "cells": [
    {
     "cell_type": "markdown",
     "metadata": {},
     "source": [
      "# Scraping And Parsing A Wikipedia List into Pandas\n",
      "\n",
      "- **Author:** [Chris Albon](http://www.chrisalbon.com/), [@ChrisAlbon](https://twitter.com/chrisalbon)\n",
      "- **Date:** -\n",
      "- **Repo:** [Python 3 code snippets for data science](https://github.com/chrisalbon/code_py)\n",
      "- **Note:** -"
     ]
    },
    {
     "cell_type": "markdown",
     "metadata": {},
     "source": [
      "### Preliminaries"
     ]
    },
    {
     "cell_type": "code",
     "collapsed": false,
     "input": [
      "# Import required modules\n",
      "import requests\n",
      "from bs4 import BeautifulSoup\n",
      "import pandas as pd"
     ],
     "language": "python",
     "metadata": {},
     "outputs": [],
     "prompt_number": 24
    },
    {
     "cell_type": "markdown",
     "metadata": {},
     "source": [
      "### Create a beautiful soup object from the website"
     ]
    },
    {
     "cell_type": "code",
     "collapsed": false,
     "input": [
      "# Create a variable with the URL to this tutorial\n",
      "url = 'http://en.wikipedia.org/wiki/List_of_airship_accidents'\n",
      "\n",
      "# Scrape the HTML at the url\n",
      "r = requests.get(url)\n",
      "\n",
      "# Turn the HTML into a Beautiful Soup object\n",
      "soup = BeautifulSoup(r.text)"
     ],
     "language": "python",
     "metadata": {},
     "outputs": [],
     "prompt_number": 25
    },
    {
     "cell_type": "markdown",
     "metadata": {},
     "source": [
      "### Parse the html into a list"
     ]
    },
    {
     "cell_type": "code",
     "collapsed": false,
     "input": [
      "# Create a list for the scraping results\n",
      "disasters = []"
     ],
     "language": "python",
     "metadata": {},
     "outputs": [],
     "prompt_number": 26
    },
    {
     "cell_type": "markdown",
     "metadata": {},
     "source": [
      "The structure of the page is such that if we take all the *li* items **without** a tag, and then ignore the last three, we will have a clean list of all the disasters"
     ]
    },
    {
     "cell_type": "code",
     "collapsed": false,
     "input": [
      "# Create a list elment for each li without a class (except for the last three)\n",
      "# Then, for each row, append the text to disasters. \n",
      "for row in soup.find_all('li', class_=False)[:-3]: \n",
      "    disasters.append(row.text)"
     ],
     "language": "python",
     "metadata": {},
     "outputs": [],
     "prompt_number": 27
    },
    {
     "cell_type": "markdown",
     "metadata": {},
     "source": [
      "### Data wrangle the list into a dataframe"
     ]
    },
    {
     "cell_type": "code",
     "collapsed": false,
     "input": [
      "# Create a dataframe from the list\n",
      "df = pd.DataFrame(disasters, columns=['raw'])"
     ],
     "language": "python",
     "metadata": {},
     "outputs": [],
     "prompt_number": 28
    },
    {
     "cell_type": "code",
     "collapsed": false,
     "input": [
      "# Take everything before the \":\" and call that the date variable\n",
      "df['date'] = df['raw'].str.extract('(^[^_]+(?=:))')"
     ],
     "language": "python",
     "metadata": {},
     "outputs": [],
     "prompt_number": 29
    },
    {
     "cell_type": "code",
     "collapsed": false,
     "input": [
      "# Take everything after the \":\" and call that the description variable\n",
      "df['description'] = df['raw'].str.extract('\\:(.*)')"
     ],
     "language": "python",
     "metadata": {},
     "outputs": [],
     "prompt_number": 30
    },
    {
     "cell_type": "code",
     "collapsed": false,
     "input": [
      "# Set the date variable to be time\n",
      "df['date'] = pd.to_datetime(df['date'])"
     ],
     "language": "python",
     "metadata": {},
     "outputs": [],
     "prompt_number": 31
    },
    {
     "cell_type": "code",
     "collapsed": false,
     "input": [
      "# Set the date variable to be the dataFrame's index\n",
      "df.index = df['date']"
     ],
     "language": "python",
     "metadata": {},
     "outputs": [],
     "prompt_number": 32
    },
    {
     "cell_type": "code",
     "collapsed": false,
     "input": [
      "# Drop the variables we no longer need\n",
      "df = df.drop(['raw', 'date'], axis=1)"
     ],
     "language": "python",
     "metadata": {},
     "outputs": [],
     "prompt_number": 33
    },
    {
     "cell_type": "markdown",
     "metadata": {},
     "source": [
      "### View the results"
     ]
    },
    {
     "cell_type": "code",
     "collapsed": false,
     "input": [
      "# View the top of the dataframe\n",
      "df.head()"
     ],
     "language": "python",
     "metadata": {},
     "outputs": [
      {
       "html": [
        "<div style=\"max-height:1000px;max-width:1500px;overflow:auto;\">\n",
        "<table border=\"1\" class=\"dataframe\">\n",
        "  <thead>\n",
        "    <tr style=\"text-align: right;\">\n",
        "      <th></th>\n",
        "      <th>description</th>\n",
        "    </tr>\n",
        "    <tr>\n",
        "      <th>date</th>\n",
        "      <th></th>\n",
        "    </tr>\n",
        "  </thead>\n",
        "  <tbody>\n",
        "    <tr>\n",
        "      <th>1902-05-02</th>\n",
        "      <td>  Semi-rigid airship Pax explodes over Paris, k...</td>\n",
        "    </tr>\n",
        "    <tr>\n",
        "      <th>1902-10-13</th>\n",
        "      <td>  Separation of gondola from envelope over Pari...</td>\n",
        "    </tr>\n",
        "    <tr>\n",
        "      <th>1907-11-30</th>\n",
        "      <td>  Loss of the French Army's Patrie - no fatalit...</td>\n",
        "    </tr>\n",
        "    <tr>\n",
        "      <th>1908-05-23</th>\n",
        "      <td>  Morrell airship falls over Berkeley, Californ...</td>\n",
        "    </tr>\n",
        "    <tr>\n",
        "      <th>1908-08-04</th>\n",
        "      <td>  Zeppelin LZ 4 caught fire near Echterdingen a...</td>\n",
        "    </tr>\n",
        "  </tbody>\n",
        "</table>\n",
        "</div>"
       ],
       "metadata": {},
       "output_type": "pyout",
       "prompt_number": 43,
       "text": [
        "                                                  description\n",
        "date                                                         \n",
        "1902-05-02   Semi-rigid airship Pax explodes over Paris, k...\n",
        "1902-10-13   Separation of gondola from envelope over Pari...\n",
        "1907-11-30   Loss of the French Army's Patrie - no fatalit...\n",
        "1908-05-23   Morrell airship falls over Berkeley, Californ...\n",
        "1908-08-04   Zeppelin LZ 4 caught fire near Echterdingen a..."
       ]
      }
     ],
     "prompt_number": 43
    },
    {
     "cell_type": "code",
     "collapsed": false,
     "input": [],
     "language": "python",
     "metadata": {},
     "outputs": [],
     "prompt_number": 34
    }
   ],
   "metadata": {}
  }
 ]
}