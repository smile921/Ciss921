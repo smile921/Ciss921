{
 "metadata": {
  "name": "",
  "signature": "sha256:9f28c7d139b6281fbd1a20d493f37366d5649955e2199f2d3817d1ea9302e2ff"
 },
 "nbformat": 3,
 "nbformat_minor": 0,
 "worksheets": [
  {
   "cells": [
    {
     "cell_type": "markdown",
     "metadata": {},
     "source": [
      "# Expand Cells Containing Lists Into Their Own Variables In Pandas\n",
      "\n",
      "- **Author:** [Chris Albon](http://www.chrisalbon.com/), [@ChrisAlbon](https://twitter.com/chrisalbon)\n",
      "- **Date:** -\n",
      "- **Repo:** [Python 3 code snippets for data science](https://github.com/chrisalbon/code_py)\n",
      "- **Note:**"
     ]
    },
    {
     "cell_type": "code",
     "collapsed": false,
     "input": [
      "# import pandas\n",
      "import pandas as pd"
     ],
     "language": "python",
     "metadata": {},
     "outputs": [],
     "prompt_number": 20
    },
    {
     "cell_type": "code",
     "collapsed": false,
     "input": [
      "# create a dataset\n",
      "raw_data = {'score': [1,2,3], \n",
      "        'tags': [['apple','pear','guava'],['truck','car','plane'],['cat','dog','mouse']]}\n",
      "df = pd.DataFrame(raw_data, columns = ['score', 'tags'])\n",
      "\n",
      "# view the dataset\n",
      "df"
     ],
     "language": "python",
     "metadata": {},
     "outputs": [
      {
       "html": [
        "<div style=\"max-height:1000px;max-width:1500px;overflow:auto;\">\n",
        "<table border=\"1\" class=\"dataframe\">\n",
        "  <thead>\n",
        "    <tr style=\"text-align: right;\">\n",
        "      <th></th>\n",
        "      <th>score</th>\n",
        "      <th>tags</th>\n",
        "    </tr>\n",
        "  </thead>\n",
        "  <tbody>\n",
        "    <tr>\n",
        "      <th>0</th>\n",
        "      <td> 1</td>\n",
        "      <td> [apple, pear, guava]</td>\n",
        "    </tr>\n",
        "    <tr>\n",
        "      <th>1</th>\n",
        "      <td> 2</td>\n",
        "      <td>  [truck, car, plane]</td>\n",
        "    </tr>\n",
        "    <tr>\n",
        "      <th>2</th>\n",
        "      <td> 3</td>\n",
        "      <td>    [cat, dog, mouse]</td>\n",
        "    </tr>\n",
        "  </tbody>\n",
        "</table>\n",
        "</div>"
       ],
       "metadata": {},
       "output_type": "pyout",
       "prompt_number": 24,
       "text": [
        "   score                  tags\n",
        "0      1  [apple, pear, guava]\n",
        "1      2   [truck, car, plane]\n",
        "2      3     [cat, dog, mouse]"
       ]
      }
     ],
     "prompt_number": 24
    },
    {
     "cell_type": "code",
     "collapsed": false,
     "input": [
      "# expand df.tags into its own dataframe\n",
      "tags = df['tags'].apply(pd.Series)\n",
      "\n",
      "# rename each variable is tags\n",
      "tags = tags.rename(columns = lambda x : 'tag_' + str(x))\n",
      "\n",
      "# view the tags dataframe\n",
      "tags"
     ],
     "language": "python",
     "metadata": {},
     "outputs": [
      {
       "html": [
        "<div style=\"max-height:1000px;max-width:1500px;overflow:auto;\">\n",
        "<table border=\"1\" class=\"dataframe\">\n",
        "  <thead>\n",
        "    <tr style=\"text-align: right;\">\n",
        "      <th></th>\n",
        "      <th>tag_0</th>\n",
        "      <th>tag_1</th>\n",
        "      <th>tag_2</th>\n",
        "    </tr>\n",
        "  </thead>\n",
        "  <tbody>\n",
        "    <tr>\n",
        "      <th>0</th>\n",
        "      <td> apple</td>\n",
        "      <td> pear</td>\n",
        "      <td> guava</td>\n",
        "    </tr>\n",
        "    <tr>\n",
        "      <th>1</th>\n",
        "      <td> truck</td>\n",
        "      <td>  car</td>\n",
        "      <td> plane</td>\n",
        "    </tr>\n",
        "    <tr>\n",
        "      <th>2</th>\n",
        "      <td>   cat</td>\n",
        "      <td>  dog</td>\n",
        "      <td> mouse</td>\n",
        "    </tr>\n",
        "  </tbody>\n",
        "</table>\n",
        "</div>"
       ],
       "metadata": {},
       "output_type": "pyout",
       "prompt_number": 25,
       "text": [
        "   tag_0 tag_1  tag_2\n",
        "0  apple  pear  guava\n",
        "1  truck   car  plane\n",
        "2    cat   dog  mouse"
       ]
      }
     ],
     "prompt_number": 25
    },
    {
     "cell_type": "code",
     "collapsed": false,
     "input": [
      "# join the tags dataframe back to the original dataframe\n",
      "pd.concat([df[:], tags[:]], axis=1)"
     ],
     "language": "python",
     "metadata": {},
     "outputs": [
      {
       "html": [
        "<div style=\"max-height:1000px;max-width:1500px;overflow:auto;\">\n",
        "<table border=\"1\" class=\"dataframe\">\n",
        "  <thead>\n",
        "    <tr style=\"text-align: right;\">\n",
        "      <th></th>\n",
        "      <th>score</th>\n",
        "      <th>tags</th>\n",
        "      <th>tag_0</th>\n",
        "      <th>tag_1</th>\n",
        "      <th>tag_2</th>\n",
        "    </tr>\n",
        "  </thead>\n",
        "  <tbody>\n",
        "    <tr>\n",
        "      <th>0</th>\n",
        "      <td> 1</td>\n",
        "      <td> [apple, pear, guava]</td>\n",
        "      <td> apple</td>\n",
        "      <td> pear</td>\n",
        "      <td> guava</td>\n",
        "    </tr>\n",
        "    <tr>\n",
        "      <th>1</th>\n",
        "      <td> 2</td>\n",
        "      <td>  [truck, car, plane]</td>\n",
        "      <td> truck</td>\n",
        "      <td>  car</td>\n",
        "      <td> plane</td>\n",
        "    </tr>\n",
        "    <tr>\n",
        "      <th>2</th>\n",
        "      <td> 3</td>\n",
        "      <td>    [cat, dog, mouse]</td>\n",
        "      <td>   cat</td>\n",
        "      <td>  dog</td>\n",
        "      <td> mouse</td>\n",
        "    </tr>\n",
        "  </tbody>\n",
        "</table>\n",
        "</div>"
       ],
       "metadata": {},
       "output_type": "pyout",
       "prompt_number": 26,
       "text": [
        "   score                  tags  tag_0 tag_1  tag_2\n",
        "0      1  [apple, pear, guava]  apple  pear  guava\n",
        "1      2   [truck, car, plane]  truck   car  plane\n",
        "2      3     [cat, dog, mouse]    cat   dog  mouse"
       ]
      }
     ],
     "prompt_number": 26
    }
   ],
   "metadata": {}
  }
 ]
}