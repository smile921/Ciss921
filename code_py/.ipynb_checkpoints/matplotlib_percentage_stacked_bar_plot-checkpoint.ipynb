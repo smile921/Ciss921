{
 "metadata": {
  "name": "",
  "signature": "sha256:334033bd747eb3f6eb0ab0e9c2ca1c5665a54833d8e8e63affcc7386c0c82926"
 },
 "nbformat": 3,
 "nbformat_minor": 0,
 "worksheets": [
  {
   "cells": [
    {
     "cell_type": "markdown",
     "metadata": {},
     "source": [
      "# Stacked Percentage Bar Plot In MatPlotLib\n",
      "\n",
      "- **Author:** [Chris Albon](http://www.chrisalbon.com/), [@ChrisAlbon](https://twitter.com/chrisalbon)\n",
      "- **Date:** -\n",
      "- **Repo:** [Python 3 code snippets for data science](https://github.com/chrisalbon/code_py)\n",
      "- **Note:** Based on: [Sebastian Raschka](http://nbviewer.ipython.org/github/rasbt/matplotlib-gallery/blob/master/ipynb/barplots.ipynb)."
     ]
    },
    {
     "cell_type": "markdown",
     "metadata": {},
     "source": [
      "## Preliminaries"
     ]
    },
    {
     "cell_type": "code",
     "collapsed": false,
     "input": [
      "%matplotlib inline\n",
      "import pandas as pd\n",
      "import matplotlib.pyplot as plt"
     ],
     "language": "python",
     "metadata": {},
     "outputs": [],
     "prompt_number": 1
    },
    {
     "cell_type": "markdown",
     "metadata": {},
     "source": [
      "## Create dataframe"
     ]
    },
    {
     "cell_type": "code",
     "collapsed": false,
     "input": [
      "raw_data = {'first_name': ['Jason', 'Molly', 'Tina', 'Jake', 'Amy'],\n",
      "        'pre_score': [4, 24, 31, 2, 3],\n",
      "        'mid_score': [25, 94, 57, 62, 70],\n",
      "        'post_score': [5, 43, 23, 23, 51]}\n",
      "df = pd.DataFrame(raw_data, columns = ['first_name', 'pre_score', 'mid_score', 'post_score'])\n",
      "df"
     ],
     "language": "python",
     "metadata": {},
     "outputs": [
      {
       "html": [
        "<div style=\"max-height:1000px;max-width:1500px;overflow:auto;\">\n",
        "<table border=\"1\" class=\"dataframe\">\n",
        "  <thead>\n",
        "    <tr style=\"text-align: right;\">\n",
        "      <th></th>\n",
        "      <th>first_name</th>\n",
        "      <th>pre_score</th>\n",
        "      <th>mid_score</th>\n",
        "      <th>post_score</th>\n",
        "    </tr>\n",
        "  </thead>\n",
        "  <tbody>\n",
        "    <tr>\n",
        "      <th>0</th>\n",
        "      <td> Jason</td>\n",
        "      <td>  4</td>\n",
        "      <td> 25</td>\n",
        "      <td>  5</td>\n",
        "    </tr>\n",
        "    <tr>\n",
        "      <th>1</th>\n",
        "      <td> Molly</td>\n",
        "      <td> 24</td>\n",
        "      <td> 94</td>\n",
        "      <td> 43</td>\n",
        "    </tr>\n",
        "    <tr>\n",
        "      <th>2</th>\n",
        "      <td>  Tina</td>\n",
        "      <td> 31</td>\n",
        "      <td> 57</td>\n",
        "      <td> 23</td>\n",
        "    </tr>\n",
        "    <tr>\n",
        "      <th>3</th>\n",
        "      <td>  Jake</td>\n",
        "      <td>  2</td>\n",
        "      <td> 62</td>\n",
        "      <td> 23</td>\n",
        "    </tr>\n",
        "    <tr>\n",
        "      <th>4</th>\n",
        "      <td>   Amy</td>\n",
        "      <td>  3</td>\n",
        "      <td> 70</td>\n",
        "      <td> 51</td>\n",
        "    </tr>\n",
        "  </tbody>\n",
        "</table>\n",
        "</div>"
       ],
       "metadata": {},
       "output_type": "pyout",
       "prompt_number": 2,
       "text": [
        "  first_name  pre_score  mid_score  post_score\n",
        "0      Jason          4         25           5\n",
        "1      Molly         24         94          43\n",
        "2       Tina         31         57          23\n",
        "3       Jake          2         62          23\n",
        "4        Amy          3         70          51"
       ]
      }
     ],
     "prompt_number": 2
    },
    {
     "cell_type": "markdown",
     "metadata": {},
     "source": [
      "## Make plot"
     ]
    },
    {
     "cell_type": "code",
     "collapsed": false,
     "input": [
      "# Create a figure with a single subplot\n",
      "f, ax = plt.subplots(1, figsize=(10,5))\n",
      "\n",
      "# Set bar width at 1\n",
      "bar_width = 1\n",
      "\n",
      "# positions of the left bar-boundaries\n",
      "bar_l = [i for i in range(len(df['pre_score']))] \n",
      "\n",
      "# positions of the x-axis ticks (center of the bars as bar labels)\n",
      "tick_pos = [i+(bar_width/2) for i in bar_l] \n",
      "\n",
      "# Create the total score for each participant\n",
      "totals = [i+j+k for i,j,k in zip(df['pre_score'], df['mid_score'], df['post_score'])]\n",
      "\n",
      "# Create the percentage of the total score the pre_score value for each participant was\n",
      "pre_rel = [i / j * 100 for  i,j in zip(df['pre_score'], totals)]\n",
      "\n",
      "# Create the percentage of the total score the mid_score value for each participant was\n",
      "mid_rel = [i / j * 100 for  i,j in zip(df['mid_score'], totals)]\n",
      "\n",
      "# Create the percentage of the total score the post_score value for each participant was\n",
      "post_rel = [i / j * 100 for  i,j in zip(df['post_score'], totals)]\n",
      "\n",
      "# Create a bar chart in position bar_1\n",
      "ax.bar(bar_l, \n",
      "       # using pre_rel data\n",
      "       pre_rel, \n",
      "       # labeled \n",
      "       label='Pre Score', \n",
      "       # with alpha\n",
      "       alpha=0.9, \n",
      "       # with color\n",
      "       color='#019600',\n",
      "       # with bar width\n",
      "       width=bar_width,\n",
      "       # with border color\n",
      "       edgecolor='white'\n",
      "       )\n",
      "\n",
      "# Create a bar chart in position bar_1\n",
      "ax.bar(bar_l, \n",
      "       # using mid_rel data\n",
      "       mid_rel, \n",
      "       # with pre_rel\n",
      "       bottom=pre_rel, \n",
      "       # labeled \n",
      "       label='Mid Score', \n",
      "       # with alpha\n",
      "       alpha=0.9, \n",
      "       # with color\n",
      "       color='#3C5F5A', \n",
      "       # with bar width\n",
      "       width=bar_width,\n",
      "       # with border color\n",
      "       edgecolor='white'\n",
      "       )\n",
      "\n",
      "# Create a bar chart in position bar_1\n",
      "ax.bar(bar_l, \n",
      "       # using post_rel data\n",
      "       post_rel, \n",
      "       # with pre_rel and mid_rel on bottom\n",
      "       bottom=[i+j for i,j in zip(pre_rel, mid_rel)], \n",
      "       # labeled \n",
      "       label='Post Score',\n",
      "       # with alpha\n",
      "       alpha=0.9, \n",
      "       # with color\n",
      "       color='#219AD8', \n",
      "       # with bar width\n",
      "       width=bar_width,\n",
      "       # with border color\n",
      "       edgecolor='white'\n",
      "       )\n",
      "\n",
      "# Set the ticks to be first names\n",
      "plt.xticks(tick_pos, df['first_name'])\n",
      "ax.set_ylabel(\"Percentage\")\n",
      "ax.set_xlabel(\"\")\n",
      "\n",
      "# Let the borders of the graphic\n",
      "plt.xlim([min(tick_pos)-bar_width, max(tick_pos)+bar_width])\n",
      "plt.ylim(-10, 110)\n",
      "\n",
      "# rotate axis labels\n",
      "plt.setp(plt.gca().get_xticklabels(), rotation=45, horizontalalignment='right')\n",
      "\n",
      "# shot plot\n",
      "plt.show()"
     ],
     "language": "python",
     "metadata": {},
     "outputs": [
      {
       "metadata": {},
       "output_type": "display_data",
       "png": "[encoded data removed]",
       "text": [
        "<matplotlib.figure.Figure at 0x1084ab1d0>"
       ]
      }
     ],
     "prompt_number": 4
    }
   ],
   "metadata": {}
  }
 ]
}