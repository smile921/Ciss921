{
 "metadata": {
  "name": "",
  "signature": "sha256:928d32ab810179141cc6444460c2b1e48985160341a3e059ca1ac58fed89fc62"
 },
 "nbformat": 3,
 "nbformat_minor": 0,
 "worksheets": [
  {
   "cells": [
    {
     "cell_type": "markdown",
     "metadata": {},
     "source": [
      "# Back To Back Bar Plot In MatPlotLib\n",
      "\n",
      "- **Author:** [Chris Albon](http://www.chrisalbon.com/), [@ChrisAlbon](https://twitter.com/chrisalbon)\n",
      "- **Date:** -\n",
      "- **Repo:** [Python 3 code snippets for data science](https://github.com/chrisalbon/code_py)\n",
      "- **Note:** Based on: [Sebastian Raschka](http://nbviewer.ipython.org/github/rasbt/matplotlib-gallery/blob/master/ipynb/barplots.ipynb)."
     ]
    },
    {
     "cell_type": "markdown",
     "metadata": {},
     "source": [
      "## Preliminaries"
     ]
    },
    {
     "cell_type": "code",
     "collapsed": false,
     "input": [
      "%matplotlib inline\n",
      "import pandas as pd\n",
      "import matplotlib.pyplot as plt\n",
      "import numpy as np"
     ],
     "language": "python",
     "metadata": {},
     "outputs": [],
     "prompt_number": 2
    },
    {
     "cell_type": "markdown",
     "metadata": {},
     "source": [
      "## Create dataframe"
     ]
    },
    {
     "cell_type": "code",
     "collapsed": false,
     "input": [
      "raw_data = {'first_name': ['Jason', 'Molly', 'Tina', 'Jake', 'Amy'],\n",
      "        'pre_score': [4, 24, 31, 2, 3],\n",
      "        'mid_score': [25, 94, 57, 62, 70],\n",
      "        'post_score': [5, 43, 23, 23, 51]}\n",
      "df = pd.DataFrame(raw_data, columns = ['first_name', 'pre_score', 'mid_score', 'post_score'])\n",
      "df"
     ],
     "language": "python",
     "metadata": {},
     "outputs": [
      {
       "html": [
        "<div style=\"max-height:1000px;max-width:1500px;overflow:auto;\">\n",
        "<table border=\"1\" class=\"dataframe\">\n",
        "  <thead>\n",
        "    <tr style=\"text-align: right;\">\n",
        "      <th></th>\n",
        "      <th>first_name</th>\n",
        "      <th>pre_score</th>\n",
        "      <th>mid_score</th>\n",
        "      <th>post_score</th>\n",
        "    </tr>\n",
        "  </thead>\n",
        "  <tbody>\n",
        "    <tr>\n",
        "      <th>0</th>\n",
        "      <td> Jason</td>\n",
        "      <td>  4</td>\n",
        "      <td> 25</td>\n",
        "      <td>  5</td>\n",
        "    </tr>\n",
        "    <tr>\n",
        "      <th>1</th>\n",
        "      <td> Molly</td>\n",
        "      <td> 24</td>\n",
        "      <td> 94</td>\n",
        "      <td> 43</td>\n",
        "    </tr>\n",
        "    <tr>\n",
        "      <th>2</th>\n",
        "      <td>  Tina</td>\n",
        "      <td> 31</td>\n",
        "      <td> 57</td>\n",
        "      <td> 23</td>\n",
        "    </tr>\n",
        "    <tr>\n",
        "      <th>3</th>\n",
        "      <td>  Jake</td>\n",
        "      <td>  2</td>\n",
        "      <td> 62</td>\n",
        "      <td> 23</td>\n",
        "    </tr>\n",
        "    <tr>\n",
        "      <th>4</th>\n",
        "      <td>   Amy</td>\n",
        "      <td>  3</td>\n",
        "      <td> 70</td>\n",
        "      <td> 51</td>\n",
        "    </tr>\n",
        "  </tbody>\n",
        "</table>\n",
        "</div>"
       ],
       "metadata": {},
       "output_type": "pyout",
       "prompt_number": 3,
       "text": [
        "  first_name  pre_score  mid_score  post_score\n",
        "0      Jason          4         25           5\n",
        "1      Molly         24         94          43\n",
        "2       Tina         31         57          23\n",
        "3       Jake          2         62          23\n",
        "4        Amy          3         70          51"
       ]
      }
     ],
     "prompt_number": 3
    },
    {
     "cell_type": "markdown",
     "metadata": {},
     "source": [
      "## Make plot"
     ]
    },
    {
     "cell_type": "code",
     "collapsed": false,
     "input": [
      "# input data, specifically the second and \n",
      "# third rows, skipping the first column\n",
      "x1 = df.ix[1, 1:]\n",
      "x2 = df.ix[2, 1:]\n",
      "\n",
      "# Create the bar labels\n",
      "bar_labels = ['Pre Score', 'Mid Score', 'Post Score']\n",
      "\n",
      "# Create a figure\n",
      "fig = plt.figure(figsize=(8,6))\n",
      "\n",
      "# Set the y position\n",
      "y_pos = np.arange(len(x1))\n",
      "y_pos = [x for x in y_pos]\n",
      "plt.yticks(y_pos, bar_labels, fontsize=10)\n",
      "\n",
      "# Create a horizontal bar in the position y_pos\n",
      "plt.barh(y_pos, \n",
      "         # using x1 data\n",
      "         x1, \n",
      "         # that is centered\n",
      "         align='center', \n",
      "         # with alpha 0.4\n",
      "         alpha=0.4, \n",
      "         # and color green\n",
      "         color='#263F13')\n",
      "\n",
      "# Create a horizontal bar in the position y_pos\n",
      "plt.barh(y_pos, \n",
      "         # using NEGATIVE x2 data\n",
      "         -x2,\n",
      "         # that is centered\n",
      "         align='center', \n",
      "         # with alpha 0.4\n",
      "         alpha=0.4, \n",
      "         # and color green\n",
      "         color='#77A61D')\n",
      "\n",
      "# annotation and labels\n",
      "plt.xlabel('Tina\\'s Score: Light Green. Molly\\'s Score: Dark Green')\n",
      "t = plt.title('Comparison of Molly and Tina\\'s Score')\n",
      "plt.ylim([-1,len(x1)+0.1])\n",
      "plt.xlim([-max(x2)-10, max(x1)+10])\n",
      "plt.grid()\n",
      "\n",
      "plt.show()"
     ],
     "language": "python",
     "metadata": {},
     "outputs": [
      {
       "metadata": {},
       "output_type": "display_data",
       "png": "[encoded data removed]",
       "text": [
        "<matplotlib.figure.Figure at 0x10896f290>"
       ]
      }
     ],
     "prompt_number": 35
    }
   ],
   "metadata": {}
  }
 ]
}