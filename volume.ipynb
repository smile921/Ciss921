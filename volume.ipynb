{
 "cells": [
  {
   "cell_type": "markdown",
   "metadata": {},
   "source": [
    "# 找出今天成交量是昨天的几倍的股票\n",
    "\n",
    "- 剔除停牌的\n",
    "- 剔除一字板的\n",
    "- 剔除新股\n",
    "- 剔除st股\n",
    "- TODO"
   ]
  },
  {
   "cell_type": "code",
   "execution_count": 1,
   "metadata": {
    "collapsed": false
   },
   "outputs": [
    {
     "name": "stdout",
     "output_type": "stream",
     "text": [
      "[Getting data:]#####################################"
     ]
    }
   ],
   "source": [
    "import tushare as ts\n",
    "dfsh = ts.get_hist_data('sh',start='2016-01-05')\n",
    "date = list(dfsh.index)\n",
    "[today,last] = date[0:2]\n",
    "df = ts.get_today_all() \n",
    "lastData = df.loc[:,['code','name','volume']]\n",
    "lastData.to_json(today+'-unicode.json',orient='records')\n",
    "lastData.to_json(today+'-gbk.json',orient='records',force_ascii=False) \n",
    "df.to_json(today+'-gbk-all.json',orient='records',force_ascii=False) "
   ]
  },
  {
   "cell_type": "code",
   "execution_count": 2,
   "metadata": {
    "collapsed": false
   },
   "outputs": [
    {
     "name": "stdout",
     "output_type": "stream",
     "text": [
      "------------------------------------------------------\n",
      "        code  name   volume  volumeLast      rate\n",
      "142   300500  苏州设计     7034    58179657  0.000121\n",
      "169   601900  南方传媒    46965    37020348  0.001269\n",
      "75    300501  海顺新材     7200     5456398  0.001320\n",
      "145     2103  广博股份    35929    19184889  0.001873\n",
      "72    603377  东方时尚    28317    12005984  0.002359\n",
      "149   300499  高澜股份    22190     4386237  0.005059\n",
      "859     2729   好利来   391512    30154615  0.012983\n",
      "817   603158  腾龙股份   977443    67296317  0.014524\n",
      "2029  300242  明家科技  2076220   126021599  0.016475\n",
      "183     2730  电光科技  4113910   208958708  0.019688\n",
      "\t\t\n",
      "\n",
      "        code   name     volume  volumeLast        rate\n",
      "1494     667   美好集团   69225257      742310   93.256533\n",
      "2477     878   云南铜业   63041920      585760  107.624146\n",
      "2783  300355   蒙草抗旱   49196756      410400  119.875136\n",
      "2285  600221   海南航空  106003681      872658  121.472193\n",
      "894      979   中弘股份  126120506     1033785  121.998777\n",
      "2058  601988   中国银行  180558419     1391259  129.780594\n",
      "45      2110   三钢闽光   13758143       84637  162.554710\n",
      "18      2043  兔 宝 宝   16385087       39692  412.805780\n",
      "23    300281   金明精机    4588512        8400  546.251429\n",
      "44    603869   北部湾旅    7478630       12760  586.099530\n",
      "------------------------------------------------------\n",
      "        code   name    volume  volumeLast      rate\n",
      "2268  300146   汤臣倍健   5699058     2847052  2.001740\n",
      "1469  600251   冠农股份  11736849     5860772  2.002611\n",
      "1885    2694   顾地科技   6089288     3039047  2.003683\n",
      "1276    2319   乐通股份  20655287    10303130  2.004758\n",
      "1852    2021   中捷资源   8523072     4230873  2.014495\n",
      "1780  601107   四川成渝   9728399     4816759  2.019698\n",
      "2008  603996   中新科技  11287378     5586884  2.020335\n",
      "1757  600692   亚通股份  10145448     5016377  2.022465\n",
      "1411  300332   天壕环境   6038252     2984672  2.023087\n",
      "264     2413   雷科防务   9068233     4482282  2.023129\n",
      "132   300376    易事特   7923498     3916381  2.023168\n",
      "1874  600395   盘江股份  39064313    19290819  2.025021\n",
      "1926     909   数源科技   8670197     4258411  2.036017\n",
      "1810    2241   歌尔声学  14219471     6973266  2.039141\n",
      "919   600339   天利高新   9463633     4634733  2.041894\n",
      "1474    2131   利欧股份  11595691     5661716  2.048088\n",
      "1315    2076  雪 莱 特   7427571     3617913  2.052999\n",
      "2435  300244   迪安诊断   3259335     1587213  2.053496\n",
      "588   300216   千山药机   9452921     4603048  2.053622\n",
      "677   600235   民丰特纸  10208035     4967920  2.054791\n",
      "\t\t\n",
      "\n",
      "        code   name    volume  volumeLast      rate\n",
      "1541      12  南  玻Ａ  25348537     5248126  4.830017\n",
      "633   600590   泰豪科技  10177944     2104031  4.837355\n",
      "1800  600084   中葡股份   7702258     1590635  4.842254\n",
      "901   600522   中天科技  20195715     4169499  4.843679\n",
      "439   600023   浙能电力  43359345     8937792  4.851237\n",
      "1299     631   顺发恒业   8561093     1764101  4.852949\n",
      "2006  600356   恒丰纸业   3956771      812164  4.871887\n",
      "479     2441    众业达  12991749     2665081  4.874805\n",
      "1310  600397   安源煤业  22673783     4622049  4.905570\n",
      "2180     810   创维数字  22934696     4668053  4.913118\n",
      "1618  600753   东方银星   1560134      316857  4.923779\n",
      "368     2005   德豪润达  29239914     5936693  4.925287\n",
      "396     2609   捷顺科技   8621828     1745644  4.939053\n",
      "1862  600063   皖维高新  35571827     7191655  4.946264\n",
      "1316    2476   宝莫股份  13764560     2775301  4.959664\n",
      "515      983   西山煤电  96457856    19440083  4.961803\n",
      "282     2746   仙坛股份   4281846      862332  4.965426\n",
      "2036     547   航天发展  23162151     4640817  4.990964\n",
      "1410     739   普洛药业  14008925     2801861  4.999864\n",
      "2489    2639   雪人股份  39419510     7884037  4.999914\n",
      "\t\t\n",
      "\n"
     ]
    }
   ],
   "source": [
    "import tushare as ts\n",
    "import pandas as pd\n",
    "import numpy as np\n",
    "dfsh = ts.get_hist_data('sh',start='2016-01-05')\n",
    "date = list(dfsh.index)\n",
    "[today,last] = date[0:2]\n",
    "dft = pd.read_json(today+'-gbk-all.json',orient='records', typ='frame',numpy=False) \n",
    "dfy = pd.read_json(last+'-gbk-all.json',orient='records', typ='frame',numpy=False) \n",
    "# pandas.read_json(path_or_buf=None, orient=None, typ='frame', dtype=True, convert_axes=True, \n",
    "# convert_dates=True, keep_default_dates=True, numpy=False, precise_float=False, date_unit=None)¶\n",
    "# Convert a JSON string to pandas object\n",
    "tdata = dft.loc[:,['code','name','volume']]\n",
    "ydata = dfy.loc[:,['code','name','volume']]\n",
    "\n",
    "\n",
    "tdata['volumeLast']=ydata['volume']\n",
    "tdata['rate']= tdata['volume']/tdata['volumeLast']\n",
    "tdata.columns\n",
    "alpha =1000\n",
    "data = tdata[(tdata.volume>alpha) & (tdata.volumeLast>alpha)].sort_values(by='rate')\n",
    "data.sort_values(by='rate').to_excel('a.xls');\n",
    "print '------------------------------------------------------'\n",
    "print data.head(10)\n",
    "print  '\\t\\t\\n'\n",
    "print data.tail(10)\n",
    "print '------------------------------------------------------'\n",
    "print data[(data.rate>2) & (data.rate <5) ].head(20)\n",
    "print  '\\t\\t\\n'\n",
    "print data[(data.rate>2) & (data.rate <5) ].tail(20)\n",
    "print  '\\t\\t\\n'\n",
    "# data =   pd.concat({'code':tdata.loc[:,['code']], 'name':tdata.loc[:,['name']], 'AA':tdata.loc[:,['volume']],'BB':ydata.loc[:,['volume']] }, axis=1)\n",
    "# data.head()\n",
    "# data['rate']= data['AA']/data['BB']\n",
    "# # data.reset_index(level=['code','name','AA','BB','rate'])\n",
    "# data.reindex(level=['code','name','AA','BB','rate'] )\n",
    "# data.sort_values(by='rate').to_excel('a.xls');\n",
    "# data.columns\n",
    "# data[data.AA>0]\n",
    "# data[(data['volume'] > 10)]\n",
    "# datasorted = data[(data.volume > 10) & (data.volume-lastday>10)].sort_values(by='rate')\n",
    "# datasorted.dropna(how='any').head()\n",
    " \n",
    "# datasorted.dropna(how='any').tail()\n",
    "# datasorted.tail()\n",
    "\n",
    "# def f(x):\n",
    "#     return 99;\n",
    "# data['rate'] = data.applymap(f).all(axis=1).astype(float)\n",
    "# data.as_matrix()\n",
    "# tt = np.array(data)\n",
    "# data.head()\n",
    "# tt\n",
    "\n"
   ]
  },
  {
   "cell_type": "code",
   "execution_count": 28,
   "metadata": {
    "collapsed": false
   },
   "outputs": [
    {
     "name": "stdout",
     "output_type": "stream",
     "text": [
      "          A         B         C         D\n",
      "0  0.323048  1.008106 -0.729530  0.909791\n",
      "1  0.114093 -0.679794 -2.992686  0.447559\n",
      "2  0.274385  1.014179 -0.324960  0.038065\n",
      "3 -0.012288  0.002518  0.978408  0.204245\n",
      "4 -0.518606 -1.280340  1.613181 -0.690997\n",
      "5  0.159412 -0.054222  0.800970 -0.731827\n",
      "          A         B         C         D\n",
      "0  0.323048  1.008106 -0.729530  0.909791\n",
      "1  0.114093 -0.679794 -2.992686  0.447559\n",
      "2  0.274385  1.014179 -0.324960  0.038065\n",
      "3 -0.012288  0.002518  0.978408  0.204245\n",
      "          A         B        C         D\n",
      "0  0.323048  1.008106 -0.72953  0.909791\n"
     ]
    }
   ],
   "source": [
    "import pandas as pd\n",
    "import numpy as np\n",
    "\n",
    "df = pd.DataFrame(np.random.randn(6,4),columns=list('ABCD'))\n",
    "df\n",
    "print df\n",
    "print df[df.D>0]\n",
    "print df[df.D>0.5]\n",
    "\n"
   ]
  },
  {
   "cell_type": "code",
   "execution_count": null,
   "metadata": {
    "collapsed": true
   },
   "outputs": [],
   "source": []
  }
 ],
 "metadata": {
  "kernelspec": {
   "display_name": "Python 2",
   "language": "python",
   "name": "python2"
  },
  "language_info": {
   "codemirror_mode": {
    "name": "ipython",
    "version": 2
   },
   "file_extension": ".py",
   "mimetype": "text/x-python",
   "name": "python",
   "nbconvert_exporter": "python",
   "pygments_lexer": "ipython2",
   "version": "2.7.10"
  }
 },
 "nbformat": 4,
 "nbformat_minor": 0
}
