{
 "metadata": {
  "name": "",
  "signature": "sha256:d7c59fbc4448790b6227df9bdc43ae8873823ecd63ebf5ee9d908b1e1ccea35d"
 },
 "nbformat": 3,
 "nbformat_minor": 0,
 "worksheets": [
  {
   "cells": [
    {
     "cell_type": "markdown",
     "metadata": {},
     "source": [
      "# \u83b7\u53d6\u4e2a\u80a1\u5386\u53f2\u4ea4\u6613\u6570\u636e\n",
      "\n",
      "\u83b7\u53d6\u4e2a\u80a1\u5386\u53f2\u4ea4\u6613\u6570\u636e\uff08\u5305\u62ec\u5747\u7ebf\u6570\u636e\uff09\uff0c\u53ef\u4ee5\u901a\u8fc7\u53c2\u6570\u8bbe\u7f6e\u83b7\u53d6\u65e5k\u7ebf\u3001\u5468k\u7ebf\u3001\u6708k\u7ebf\uff0c\u4ee5\u53ca5\u5206\u949f\u300115\u5206\u949f\u300130\u5206\u949f\u548c60\u5206\u949fk\u7ebf\u6570\u636e\u3002\u672c\u63a5\u53e3\u53ea\u80fd\u83b7\u53d6\u8fd13\u5e74\u7684\u65e5\u7ebf\u6570\u636e\uff0c\u9002\u5408\u642d\u914d\u5747\u7ebf\u6570\u636e\u8fdb\u884c\u9009\u80a1\u548c\u5206\u6790\uff0c\u5982\u679c\u9700\u8981\u5168\u90e8\u5386\u53f2\u6570\u636e\uff0c\u8bf7\u8c03\u7528\u4e0b\u4e00\u4e2a\u63a5\u53e3get_h_data()\u3002\n",
      "\n",
      "## \u53c2\u6570\u8bf4\u660e\uff1a\n",
      "\n",
      "* code\uff1a\u80a1\u7968\u4ee3\u7801\uff0c\u53736\u4f4d\u6570\u5b57\u4ee3\u7801\uff0c\u6216\u8005\u6307\u6570\u4ee3\u7801\uff08sh=\u4e0a\u8bc1\u6307\u6570 sz=\u6df1\u5733\u6210\u6307 hs300=\u6caa\u6df1300\u6307\u6570 sz50=\u4e0a\u8bc150 zxb=\u4e2d\u5c0f\u677f cyb=\u521b\u4e1a\u677f\uff09\n",
      "* start\uff1a\u5f00\u59cb\u65e5\u671f\uff0c\u683c\u5f0fYYYY-MM-DD\n",
      "* end\uff1a\u7ed3\u675f\u65e5\u671f\uff0c\u683c\u5f0fYYYY-MM-DD\n",
      "* ktype\uff1a\u6570\u636e\u7c7b\u578b\uff0cD=\u65e5k\u7ebf W=\u5468 M=\u6708 5=5\u5206\u949f 15=15\u5206\u949f 30=30\u5206\u949f 60=60\u5206\u949f\uff0c\u9ed8\u8ba4\u4e3aD\n",
      "* retry_count\uff1a\u5f53\u7f51\u7edc\u5f02\u5e38\u540e\u91cd\u8bd5\u6b21\u6570\uff0c\u9ed8\u8ba4\u4e3a3\n",
      "* pause:\u91cd\u8bd5\u65f6\u505c\u987f\u79d2\u6570\uff0c\u9ed8\u8ba4\u4e3a0\n",
      "\n",
      "## \u8fd4\u56de\u503c\u8bf4\u660e\uff1a\n",
      "\n",
      "* date\uff1a\u65e5\u671f\n",
      "* open\uff1a\u5f00\u76d8\u4ef7\n",
      "* high\uff1a\u6700\u9ad8\u4ef7\n",
      "* close\uff1a\u6536\u76d8\u4ef7\n",
      "* low\uff1a\u6700\u4f4e\u4ef7\n",
      "* volume\uff1a\u6210\u4ea4\u91cf\n",
      "* price_change\uff1a\u4ef7\u683c\u53d8\u52a8\n",
      "* p_change\uff1a\u6da8\u8dcc\u5e45\n",
      "* ma5\uff1a5\u65e5\u5747\u4ef7\n",
      "* ma10\uff1a10\u65e5\u5747\u4ef7\n",
      "* ma20:20\u65e5\u5747\u4ef7\n",
      "* v_ma5:5\u65e5\u5747\u91cf\n",
      "* v_ma10:10\u65e5\u5747\u91cf\n",
      "* v_ma20:20\u65e5\u5747\u91cf\n",
      "* turnover:\u6362\u624b\u7387[\u6ce8\uff1a\u6307\u6570\u65e0\u6b64\u9879]\n",
      "\n",
      "## \u8c03\u7528\u65b9\u6cd5\uff1a\n",
      "\n",
      "`import tushare as ts\n",
      "<br>\n",
      "\n",
      "`ts.get_hist_data('600848') #\u4e00\u6b21\u6027\u83b7\u53d6\u5168\u90e8\u65e5k\u7ebf\u6570\u636e\n",
      "`\n",
      "#.\n",
      "\n",
      "* ts.get_hist_data('600848', ktype='W') #\u83b7\u53d6\u5468k\u7ebf\u6570\u636e\n",
      "* ts.get_hist_data('600848', ktype='M') #\u83b7\u53d6\u6708k\u7ebf\u6570\u636e\n",
      "* ts.get_hist_data('600848', ktype='5') #\u83b7\u53d65\u5206\u949fk\u7ebf\u6570\u636e\n",
      "* ts.get_hist_data('600848', ktype='15') #\u83b7\u53d615\u5206\u949fk\u7ebf\u6570\u636e\n",
      "* ts.get_hist_data('600848', ktype='30') #\u83b7\u53d630\u5206\u949fk\u7ebf\u6570\u636e\n",
      "* ts.get_hist_data('600848', ktype='60') #\u83b7\u53d660\u5206\u949fk\u7ebf\u6570\u636e\n",
      "* ts.get_hist_data('sh'\uff09#\u83b7\u53d6\u4e0a\u8bc1\u6307\u6570k\u7ebf\u6570\u636e\uff0c\u5176\u5b83\u53c2\u6570\u4e0e\u4e2a\u80a1\u4e00\u81f4\uff0c\u4e0b\u540c\n",
      "* ts.get_hist_data('sz'\uff09#\u83b7\u53d6\u6df1\u5733\u6210\u6307k\u7ebf\u6570\u636e\n",
      "* ts.get_hist_data('hs300'\uff09#\u83b7\u53d6\u6caa\u6df1300\u6307\u6570k\u7ebf\u6570\u636e\n",
      "* ts.get_hist_data('sz50'\uff09#\u83b7\u53d6\u4e0a\u8bc150\u6307\u6570k\u7ebf\u6570\u636e\n",
      "* ts.get_hist_data('zxb'\uff09#\u83b7\u53d6\u4e2d\u5c0f\u677f\u6307\u6570k\u7ebf\u6570\u636e\n",
      "* ts.get_hist_data('cyb'\uff09#\u83b7\u53d6\u521b\u4e1a\u677f\u6307\u6570k\u7ebf\u6570\u636e"
     ]
    },
    {
     "cell_type": "code",
     "collapsed": false,
     "input": [
      "import tushare as ts\n",
      "df = ts.get_hist_data('600848')\n",
      "df.head()\n"
     ],
     "language": "python",
     "metadata": {},
     "outputs": [
      {
       "html": [
        "<div style=\"max-height:1000px;max-width:1500px;overflow:auto;\">\n",
        "<table border=\"1\" class=\"dataframe\">\n",
        "  <thead>\n",
        "    <tr style=\"text-align: right;\">\n",
        "      <th></th>\n",
        "      <th>open</th>\n",
        "      <th>high</th>\n",
        "      <th>close</th>\n",
        "      <th>low</th>\n",
        "      <th>volume</th>\n",
        "      <th>price_change</th>\n",
        "      <th>p_change</th>\n",
        "      <th>ma5</th>\n",
        "      <th>ma10</th>\n",
        "      <th>ma20</th>\n",
        "      <th>v_ma5</th>\n",
        "      <th>v_ma10</th>\n",
        "      <th>v_ma20</th>\n",
        "      <th>turnover</th>\n",
        "    </tr>\n",
        "    <tr>\n",
        "      <th>date</th>\n",
        "      <th></th>\n",
        "      <th></th>\n",
        "      <th></th>\n",
        "      <th></th>\n",
        "      <th></th>\n",
        "      <th></th>\n",
        "      <th></th>\n",
        "      <th></th>\n",
        "      <th></th>\n",
        "      <th></th>\n",
        "      <th></th>\n",
        "      <th></th>\n",
        "      <th></th>\n",
        "      <th></th>\n",
        "    </tr>\n",
        "  </thead>\n",
        "  <tbody>\n",
        "    <tr>\n",
        "      <th>2016-02-05</th>\n",
        "      <td> 15.02</td>\n",
        "      <td> 15.90</td>\n",
        "      <td> 15.30</td>\n",
        "      <td> 15.02</td>\n",
        "      <td> 37989.99</td>\n",
        "      <td> 0.15</td>\n",
        "      <td> 0.99</td>\n",
        "      <td> 14.714</td>\n",
        "      <td> 14.552</td>\n",
        "      <td> 15.106</td>\n",
        "      <td> 33914.19</td>\n",
        "      <td> 34565.89</td>\n",
        "      <td> 41796.52</td>\n",
        "      <td> 1.30</td>\n",
        "    </tr>\n",
        "    <tr>\n",
        "      <th>2016-02-04</th>\n",
        "      <td> 14.52</td>\n",
        "      <td> 15.25</td>\n",
        "      <td> 15.15</td>\n",
        "      <td> 14.52</td>\n",
        "      <td> 40090.40</td>\n",
        "      <td> 0.67</td>\n",
        "      <td> 4.63</td>\n",
        "      <td> 14.448</td>\n",
        "      <td> 14.579</td>\n",
        "      <td> 15.225</td>\n",
        "      <td> 33972.18</td>\n",
        "      <td> 33295.33</td>\n",
        "      <td> 43083.57</td>\n",
        "      <td> 1.37</td>\n",
        "    </tr>\n",
        "    <tr>\n",
        "      <th>2016-02-03</th>\n",
        "      <td> 14.50</td>\n",
        "      <td> 14.53</td>\n",
        "      <td> 14.47</td>\n",
        "      <td> 14.25</td>\n",
        "      <td> 22184.43</td>\n",
        "      <td>-0.07</td>\n",
        "      <td>-0.48</td>\n",
        "      <td> 14.130</td>\n",
        "      <td> 14.604</td>\n",
        "      <td> 15.369</td>\n",
        "      <td> 31357.17</td>\n",
        "      <td> 33820.38</td>\n",
        "      <td> 41683.20</td>\n",
        "      <td> 0.76</td>\n",
        "    </tr>\n",
        "    <tr>\n",
        "      <th>2016-02-02</th>\n",
        "      <td> 14.15</td>\n",
        "      <td> 14.71</td>\n",
        "      <td> 14.55</td>\n",
        "      <td> 14.05</td>\n",
        "      <td> 42175.52</td>\n",
        "      <td> 0.46</td>\n",
        "      <td> 3.27</td>\n",
        "      <td> 14.034</td>\n",
        "      <td> 14.758</td>\n",
        "      <td> 15.648</td>\n",
        "      <td> 35027.99</td>\n",
        "      <td> 36015.72</td>\n",
        "      <td> 42412.93</td>\n",
        "      <td> 1.44</td>\n",
        "    </tr>\n",
        "    <tr>\n",
        "      <th>2016-02-01</th>\n",
        "      <td> 13.99</td>\n",
        "      <td> 14.28</td>\n",
        "      <td> 14.10</td>\n",
        "      <td> 13.90</td>\n",
        "      <td> 27130.60</td>\n",
        "      <td> 0.12</td>\n",
        "      <td> 0.86</td>\n",
        "      <td> 14.030</td>\n",
        "      <td> 14.925</td>\n",
        "      <td> 15.912</td>\n",
        "      <td> 34182.93</td>\n",
        "      <td> 36809.71</td>\n",
        "      <td> 43515.56</td>\n",
        "      <td> 0.93</td>\n",
        "    </tr>\n",
        "  </tbody>\n",
        "</table>\n",
        "</div>"
       ],
       "metadata": {},
       "output_type": "pyout",
       "prompt_number": 1,
       "text": [
        "             open   high  close    low    volume  price_change  p_change  \\\n",
        "date                                                                       \n",
        "2016-02-05  15.02  15.90  15.30  15.02  37989.99          0.15      0.99   \n",
        "2016-02-04  14.52  15.25  15.15  14.52  40090.40          0.67      4.63   \n",
        "2016-02-03  14.50  14.53  14.47  14.25  22184.43         -0.07     -0.48   \n",
        "2016-02-02  14.15  14.71  14.55  14.05  42175.52          0.46      3.27   \n",
        "2016-02-01  13.99  14.28  14.10  13.90  27130.60          0.12      0.86   \n",
        "\n",
        "               ma5    ma10    ma20     v_ma5    v_ma10    v_ma20  turnover  \n",
        "date                                                                        \n",
        "2016-02-05  14.714  14.552  15.106  33914.19  34565.89  41796.52      1.30  \n",
        "2016-02-04  14.448  14.579  15.225  33972.18  33295.33  43083.57      1.37  \n",
        "2016-02-03  14.130  14.604  15.369  31357.17  33820.38  41683.20      0.76  \n",
        "2016-02-02  14.034  14.758  15.648  35027.99  36015.72  42412.93      1.44  \n",
        "2016-02-01  14.030  14.925  15.912  34182.93  36809.71  43515.56      0.93  "
       ]
      }
     ],
     "prompt_number": 1
    },
    {
     "cell_type": "markdown",
     "metadata": {},
     "source": [
      "# \u590d\u6743\u6570\u636e\u00b6\n",
      "\u83b7\u53d6\u5386\u53f2\u590d\u6743\u6570\u636e\uff0c\u5206\u4e3a\u524d\u590d\u6743\u548c\u540e\u590d\u6743\u6570\u636e\uff0c\u63a5\u53e3\u63d0\u4f9b\u80a1\u7968\u4e0a\u5e02\u4ee5\u6765\u6240\u6709\u5386\u53f2\u6570\u636e\uff0c\u9ed8\u8ba4\u4e3a\u524d\u590d\u6743\u3002\n",
      "\u5982\u679c\u4e0d\u8bbe\u5b9a\u5f00\u59cb\u548c\u7ed3\u675f\u65e5\u671f\uff0c\u5219\u8fd4\u56de\u8fd1\u4e00\u5e74\u7684\u590d\u6743\u6570\u636e\uff0c\u4ece\u6027\u80fd\u4e0a\u8003\u8651\uff0c\u63a8\u8350\u8bbe\u5b9a\u5f00\u59cb\u65e5\u671f\u548c\u7ed3\u675f\u65e5\u671f\uff0c\n",
      "\u800c\u4e14\u6700\u597d\u4e0d\u8981\u8d85\u8fc7\u4e09\u5e74\u4ee5\u4e0a\uff0c\u83b7\u53d6\u5168\u90e8\u5386\u53f2\u6570\u636e\uff0c\u8bf7\u5206\u5e74\u6bb5\u5206\u6b65\u83b7\u53d6\uff0c\u53d6\u5230\u6570\u636e\u540e\uff0c\u8bf7\u53ca\u65f6\u5728\u672c\u5730\u5b58\u50a8\u3002\u83b7\u53d6\u4e2a\u80a1\u9996\u4e2a\u4e0a\u5e02\u65e5\u671f\uff0c\n",
      "\n",
      "## \u8bf7\u53c2\u8003\u4ee5\u4e0b\u65b9\u6cd5\uff1a\n",
      "\n",
      "`df = ts.get_stock_basics()\n",
      "<br>\n",
      "\n",
      "`date = df.ix['600848']['timeToMarket'] #\u4e0a\u5e02\u65e5\u671fYYYYMMDD\n",
      "\u672c\u63a5\u53e3\u8fd8\u63d0\u4f9b\u5927\u76d8\u6307\u6570\u7684\u5168\u90e8\u5386\u53f2\u6570\u636e\uff0c\u8c03\u7528\u65f6\uff0c\u8bf7\u52a1\u5fc5\u8bbe\u5b9aindex\u53c2\u6570\u4e3aTrue,\u7531\u4e8e\u5927\u76d8\u6307\u6570\u4e0d\u5b58\u5728\u590d\u6743\u7684\u95ee\u9898\uff0c\u6545\u53ef\u4ee5\u5ffd\u7565autype\u53c2\u6570\u3002\n",
      "\n",
      "* ts.get_h_data('002337') #\u524d\u590d\u6743\n",
      "* ts.get_h_data('002337', autype='hfq') #\u540e\u590d\u6743\n",
      "* ts.get_h_data('002337', autype=None) #\u4e0d\u590d\u6743\n",
      "* ts.get_h_data('002337', start='2015-01-01', end='2015-03-16') #\u4e24\u4e2a\u65e5\u671f\u4e4b\u95f4\u7684\u524d\u590d\u6743\u6570\u636e\n",
      "* ts.get_h_data('399106', index=True) #\u6df1\u5733\u7efc\u5408\u6307\u6570\n",
      "\n",
      "## \u53c2\u6570\u8bf4\u660e\uff1a\n",
      "\n",
      "* code:string,\u80a1\u7968\u4ee3\u7801 e.g. 600848\n",
      "* start:string,\u5f00\u59cb\u65e5\u671f format\uff1aYYYY-MM-DD \u4e3a\u7a7a\u65f6\u53d6\u5f53\u524d\u65e5\u671f\n",
      "* end:string,\u7ed3\u675f\u65e5\u671f format\uff1aYYYY-MM-DD \u4e3a\u7a7a\u65f6\u53d6\u53bb\u5e74\u4eca\u65e5\n",
      "* autype:string,\u590d\u6743\u7c7b\u578b\uff0cqfq-\u524d\u590d\u6743 hfq-\u540e\u590d\u6743 None-\u4e0d\u590d\u6743\uff0c\u9ed8\u8ba4\u4e3aqfq\n",
      "* index:Boolean\uff0c\u662f\u5426\u662f\u5927\u76d8\u6307\u6570\uff0c\u9ed8\u8ba4\u4e3aFalse\n",
      "* retry_count : int, \u9ed8\u8ba43,\u5982\u9047\u7f51\u7edc\u7b49\u95ee\u9898\u91cd\u590d\u6267\u884c\u7684\u6b21\u6570\n",
      "* pause : int, \u9ed8\u8ba4 0,\u91cd\u590d\u8bf7\u6c42\u6570\u636e\u8fc7\u7a0b\u4e2d\u6682\u505c\u7684\u79d2\u6570\uff0c\u9632\u6b62\u8bf7\u6c42\u95f4\u9694\u65f6\u95f4\u592a\u77ed\u51fa\u73b0\u7684\u95ee\u9898\n",
      "\n",
      "## \u8fd4\u56de\u503c\u8bf4\u660e\uff1a\n",
      "\n",
      "* date : \u4ea4\u6613\u65e5\u671f (index)\n",
      "* open : \u5f00\u76d8\u4ef7\n",
      "* high : \u6700\u9ad8\u4ef7\n",
      "* close : \u6536\u76d8\u4ef7\n",
      "* low : \u6700\u4f4e\u4ef7\n",
      "* volume : \u6210\u4ea4\u91cf\n",
      "* amount : \u6210\u4ea4\u91d1\u989d"
     ]
    },
    {
     "cell_type": "code",
     "collapsed": false,
     "input": [
      "import tushare as ts\n",
      "\n",
      "tick =  '600446'\n",
      "dfbasic = ts.get_stock_basics() \n",
      "date = dfbasic.ix[tick]['timeToMarket']\n",
      "print date\n",
      "df = ts.get_h_data(tick,start='2003-12-24') \n",
      "hddf = df.head()\n",
      "\n",
      "# pandas\u751f\u6210Json\u683c\u5f0f\u7684\u6587\u4ef6\u6216\u5b57\u7b26\u4e32\u3002\n",
      "\n",
      "# \u5e38\u7528\u53c2\u6570\u8bf4\u660e\uff1a\n",
      "\n",
      "# path_or_buf: json\u6587\u4ef6\u5b58\u653e\u8def\u5f84\n",
      "# orient:json\u683c\u5f0f\u987a\u5e8f\uff0c\u5305\u62ec columns\uff0crecords\uff0cindex\uff0csplit\uff0cvalues\uff0c\u9ed8\u8ba4\u4e3acolumns\n",
      "# force_ascii: \u5c06\u5b57\u7b26\u8f6cASCII\uff0c\u9ed8\u8ba4\u4e3aTrue\n",
      "# \u8c03\u7528\u65b9\u6cd5\uff1a\n",
      "\n",
      "# import tushare as ts\n",
      "\n",
      "# df = ts.get_hist_data('000875')\n",
      "# df.to_json('c:/day/000875.json',orient='records')\n",
      "\n",
      "#\u6216\u8005\u76f4\u63a5\u4f7f\u7528\n",
      "print hddf.to_json(orient='records')\n",
      "print '\\n'\n",
      "print hddf.to_json(orient='columns')\n",
      "print '\\n'\n",
      "print hddf.to_json(orient='index')\n",
      "print '\\n'\n",
      "print hddf.to_json(orient='split')\n",
      "print '\\n'\n",
      "print hddf.to_json(orient='values')"
     ],
     "language": "python",
     "metadata": {},
     "outputs": [
      {
       "output_type": "stream",
       "stream": "stdout",
       "text": [
        "20031224\n",
        "[Getting data:]"
       ]
      },
      {
       "output_type": "stream",
       "stream": "stdout",
       "text": [
        "#"
       ]
      },
      {
       "output_type": "stream",
       "stream": "stdout",
       "text": [
        "#"
       ]
      },
      {
       "output_type": "stream",
       "stream": "stdout",
       "text": [
        "#"
       ]
      },
      {
       "output_type": "stream",
       "stream": "stdout",
       "text": [
        "#"
       ]
      },
      {
       "output_type": "stream",
       "stream": "stdout",
       "text": [
        "#"
       ]
      },
      {
       "output_type": "stream",
       "stream": "stdout",
       "text": [
        "#"
       ]
      },
      {
       "output_type": "stream",
       "stream": "stdout",
       "text": [
        "#"
       ]
      },
      {
       "output_type": "stream",
       "stream": "stdout",
       "text": [
        "#"
       ]
      },
      {
       "output_type": "stream",
       "stream": "stdout",
       "text": [
        "#"
       ]
      },
      {
       "output_type": "stream",
       "stream": "stdout",
       "text": [
        "#"
       ]
      },
      {
       "output_type": "stream",
       "stream": "stdout",
       "text": [
        "#"
       ]
      },
      {
       "output_type": "stream",
       "stream": "stdout",
       "text": [
        "#"
       ]
      },
      {
       "output_type": "stream",
       "stream": "stdout",
       "text": [
        "#"
       ]
      },
      {
       "output_type": "stream",
       "stream": "stdout",
       "text": [
        "#"
       ]
      },
      {
       "output_type": "stream",
       "stream": "stdout",
       "text": [
        "#"
       ]
      },
      {
       "output_type": "stream",
       "stream": "stdout",
       "text": [
        "#"
       ]
      },
      {
       "output_type": "stream",
       "stream": "stdout",
       "text": [
        "#"
       ]
      },
      {
       "output_type": "stream",
       "stream": "stdout",
       "text": [
        "#"
       ]
      },
      {
       "output_type": "stream",
       "stream": "stdout",
       "text": [
        "#"
       ]
      },
      {
       "output_type": "stream",
       "stream": "stdout",
       "text": [
        "#"
       ]
      },
      {
       "output_type": "stream",
       "stream": "stdout",
       "text": [
        "#"
       ]
      },
      {
       "output_type": "stream",
       "stream": "stdout",
       "text": [
        "#"
       ]
      },
      {
       "output_type": "stream",
       "stream": "stdout",
       "text": [
        "#"
       ]
      },
      {
       "output_type": "stream",
       "stream": "stdout",
       "text": [
        "#"
       ]
      },
      {
       "output_type": "stream",
       "stream": "stdout",
       "text": [
        "#"
       ]
      },
      {
       "output_type": "stream",
       "stream": "stdout",
       "text": [
        "#"
       ]
      },
      {
       "output_type": "stream",
       "stream": "stdout",
       "text": [
        "#"
       ]
      },
      {
       "output_type": "stream",
       "stream": "stdout",
       "text": [
        "#"
       ]
      },
      {
       "output_type": "stream",
       "stream": "stdout",
       "text": [
        "#"
       ]
      },
      {
       "output_type": "stream",
       "stream": "stdout",
       "text": [
        "#"
       ]
      },
      {
       "output_type": "stream",
       "stream": "stdout",
       "text": [
        "#"
       ]
      },
      {
       "output_type": "stream",
       "stream": "stdout",
       "text": [
        "#"
       ]
      },
      {
       "output_type": "stream",
       "stream": "stdout",
       "text": [
        "#"
       ]
      },
      {
       "output_type": "stream",
       "stream": "stdout",
       "text": [
        "#"
       ]
      },
      {
       "output_type": "stream",
       "stream": "stdout",
       "text": [
        "#"
       ]
      },
      {
       "output_type": "stream",
       "stream": "stdout",
       "text": [
        "#"
       ]
      },
      {
       "output_type": "stream",
       "stream": "stdout",
       "text": [
        "#"
       ]
      },
      {
       "output_type": "stream",
       "stream": "stdout",
       "text": [
        "#"
       ]
      },
      {
       "output_type": "stream",
       "stream": "stdout",
       "text": [
        "#"
       ]
      },
      {
       "output_type": "stream",
       "stream": "stdout",
       "text": [
        "#"
       ]
      },
      {
       "output_type": "stream",
       "stream": "stdout",
       "text": [
        "#"
       ]
      },
      {
       "output_type": "stream",
       "stream": "stdout",
       "text": [
        "#"
       ]
      },
      {
       "output_type": "stream",
       "stream": "stdout",
       "text": [
        "#"
       ]
      },
      {
       "output_type": "stream",
       "stream": "stdout",
       "text": [
        "#"
       ]
      },
      {
       "output_type": "stream",
       "stream": "stdout",
       "text": [
        "#"
       ]
      },
      {
       "output_type": "stream",
       "stream": "stdout",
       "text": [
        "#"
       ]
      },
      {
       "output_type": "stream",
       "stream": "stdout",
       "text": [
        "#"
       ]
      },
      {
       "output_type": "stream",
       "stream": "stdout",
       "text": [
        "#"
       ]
      },
      {
       "output_type": "stream",
       "stream": "stdout",
       "text": [
        "#"
       ]
      },
      {
       "output_type": "stream",
       "stream": "stdout",
       "text": [
        "[{\"open\":30.9,\"high\":31.57,\"close\":30.8,\"low\":30.65,\"volume\":20022308.0,\"amount\":623060612.0},{\"open\":30.65,\"high\":31.65,\"close\":30.96,\"low\":30.5,\"volume\":25589089.0,\"amount\":795347368.0},{\"open\":30.0,\"high\":30.44,\"close\":30.19,\"low\":29.45,\"volume\":23378188.0,\"amount\":699605966.0},{\"open\":30.1,\"high\":31.52,\"close\":30.85,\"low\":30.1,\"volume\":29025008.0,\"amount\":900954033.0},{\"open\":32.39,\"high\":32.39,\"close\":29.95,\"low\":29.4,\"volume\":33385362.0,\"amount\":1032905668.0}]\n",
        "\n",
        "\n",
        "{\"open\":{\"1454630400000\":30.9,\"1454544000000\":30.65,\"1454457600000\":30.0,\"1454371200000\":30.1,\"1454284800000\":32.39},\"high\":{\"1454630400000\":31.57,\"1454544000000\":31.65,\"1454457600000\":30.44,\"1454371200000\":31.52,\"1454284800000\":32.39},\"close\":{\"1454630400000\":30.8,\"1454544000000\":30.96,\"1454457600000\":30.19,\"1454371200000\":30.85,\"1454284800000\":29.95},\"low\":{\"1454630400000\":30.65,\"1454544000000\":30.5,\"1454457600000\":29.45,\"1454371200000\":30.1,\"1454284800000\":29.4},\"volume\":{\"1454630400000\":20022308.0,\"1454544000000\":25589089.0,\"1454457600000\":23378188.0,\"1454371200000\":29025008.0,\"1454284800000\":33385362.0},\"amount\":{\"1454630400000\":623060612.0,\"1454544000000\":795347368.0,\"1454457600000\":699605966.0,\"1454371200000\":900954033.0,\"1454284800000\":1032905668.0}}\n",
        "\n",
        "\n",
        "{\"1454630400000\":{\"open\":30.9,\"high\":31.57,\"close\":30.8,\"low\":30.65,\"volume\":20022308.0,\"amount\":623060612.0},\"1454544000000\":{\"open\":30.65,\"high\":31.65,\"close\":30.96,\"low\":30.5,\"volume\":25589089.0,\"amount\":795347368.0},\"1454457600000\":{\"open\":30.0,\"high\":30.44,\"close\":30.19,\"low\":29.45,\"volume\":23378188.0,\"amount\":699605966.0},\"1454371200000\":{\"open\":30.1,\"high\":31.52,\"close\":30.85,\"low\":30.1,\"volume\":29025008.0,\"amount\":900954033.0},\"1454284800000\":{\"open\":32.39,\"high\":32.39,\"close\":29.95,\"low\":29.4,\"volume\":33385362.0,\"amount\":1032905668.0}}\n",
        "\n",
        "\n",
        "{\"columns\":[\"open\",\"high\",\"close\",\"low\",\"volume\",\"amount\"],\"index\":[1454630400000,1454544000000,1454457600000,1454371200000,1454284800000],\"data\":[[30.9,31.57,30.8,30.65,20022308.0,623060612.0],[30.65,31.65,30.96,30.5,25589089.0,795347368.0],[30.0,30.44,30.19,29.45,23378188.0,699605966.0],[30.1,31.52,30.85,30.1,29025008.0,900954033.0],[32.39,32.39,29.95,29.4,33385362.0,1032905668.0]]}\n",
        "\n",
        "\n",
        "[[30.9,31.57,30.8,30.65,20022308.0,623060612.0],[30.65,31.65,30.96,30.5,25589089.0,795347368.0],[30.0,30.44,30.19,29.45,23378188.0,699605966.0],[30.1,31.52,30.85,30.1,29025008.0,900954033.0],[32.39,32.39,29.95,29.4,33385362.0,1032905668.0]]\n"
       ]
      }
     ],
     "prompt_number": 5
    },
    {
     "cell_type": "markdown",
     "metadata": {},
     "source": [
      "## *Latex*  \u4f7f\u7528\u793a\u4f8b\n",
      "---\n",
      "$f(x)=sinx^2-x^4+x*cosx$"
     ]
    },
    {
     "cell_type": "code",
     "collapsed": false,
     "input": [],
     "language": "python",
     "metadata": {},
     "outputs": []
    }
   ],
   "metadata": {}
  }
 ]
}